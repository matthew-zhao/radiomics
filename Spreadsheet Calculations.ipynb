{
 "cells": [
  {
   "cell_type": "code",
   "execution_count": 11,
   "metadata": {
    "collapsed": false
   },
   "outputs": [
    {
     "name": "stderr",
     "output_type": "stream",
     "text": [
      "usage: __main__.py [-h] [--auth_host_name AUTH_HOST_NAME]\n",
      "                   [--noauth_local_webserver]\n",
      "                   [--auth_host_port [AUTH_HOST_PORT [AUTH_HOST_PORT ...]]]\n",
      "                   [--logging_level {DEBUG,INFO,WARNING,ERROR,CRITICAL}]\n",
      "__main__.py: error: unrecognized arguments: -f /Users/MattZhao/Library/Jupyter/runtime/kernel-34d55e57-1d5c-40f9-aaec-14126927bd2c.json\n"
     ]
    },
    {
     "ename": "SystemExit",
     "evalue": "2",
     "output_type": "error",
     "traceback": [
      "An exception has occurred, use %tb to see the full traceback.\n",
      "\u001b[0;31mSystemExit\u001b[0m\u001b[0;31m:\u001b[0m 2\n"
     ]
    }
   ],
   "source": [
    "from __future__ import print_function\n",
    "import httplib2\n",
    "import os\n",
    "\n",
    "from apiclient import discovery\n",
    "from oauth2client import client\n",
    "from oauth2client import tools\n",
    "from oauth2client.file import Storage\n",
    "\n",
    "import argparse\n",
    "flags = argparse.ArgumentParser(parents=[tools.argparser]).parse_args()"
   ]
  },
  {
   "cell_type": "code",
   "execution_count": 12,
   "metadata": {
    "collapsed": true
   },
   "outputs": [],
   "source": [
    "# If modifying these scopes, delete your previously saved credentials\n",
    "# at ~/.credentials/sheets.googleapis.com-python-quickstart.json\n",
    "SCOPES = 'https://www.googleapis.com/auth/spreadsheets'\n",
    "CLIENT_SECRET_FILE = 'client_secret.json'\n",
    "APPLICATION_NAME = 'Radiomics'"
   ]
  },
  {
   "cell_type": "code",
   "execution_count": 13,
   "metadata": {
    "collapsed": true
   },
   "outputs": [],
   "source": [
    "def get_credentials():\n",
    "    \"\"\"Gets valid user credentials from storage.\n",
    "\n",
    "    If nothing has been stored, or if the stored credentials are invalid,\n",
    "    the OAuth2 flow is completed to obtain the new credentials.\n",
    "\n",
    "    Returns:\n",
    "        Credentials, the obtained credential.\n",
    "    \"\"\"\n",
    "    home_dir = os.path.expanduser('~')\n",
    "    credential_dir = os.path.join(home_dir, '.credentials')\n",
    "    if not os.path.exists(credential_dir):\n",
    "        os.makedirs(credential_dir)\n",
    "    credential_path = os.path.join(credential_dir,\n",
    "                                   'sheets.googleapis.com-radiomics-test.json')\n",
    "\n",
    "    store = Storage(credential_path)\n",
    "    credentials = store.get()\n",
    "    if not credentials or credentials.invalid:\n",
    "        flow = client.flow_from_clientsecrets(CLIENT_SECRET_FILE, SCOPES)\n",
    "        flow.user_agent = APPLICATION_NAME\n",
    "        if flags:\n",
    "            credentials = tools.run_flow(flow, store, flags)\n",
    "        else: # Needed only for compatibility with Python 2.6\n",
    "            credentials = tools.run(flow, store)\n",
    "        print('Storing credentials to ' + credential_path)\n",
    "    return credentials"
   ]
  },
  {
   "cell_type": "code",
   "execution_count": 14,
   "metadata": {
    "collapsed": true
   },
   "outputs": [],
   "source": [
    "def main():\n",
    "    \"\"\"Shows basic usage of the Sheets API.\n",
    "\n",
    "    Creates a Sheets API service object and prints the names and majors of\n",
    "    students in a sample spreadsheet:\n",
    "    https://docs.google.com/spreadsheets/d/1BxiMVs0XRA5nFMdKvBdBZjgmUUqptlbs74OgvE2upms/edit\n",
    "    \"\"\"\n",
    "    \n",
    "    credentials = get_credentials()\n",
    "    http = credentials.authorize(httplib2.Http())\n",
    "    discoveryUrl = ('https://sheets.googleapis.com/$discovery/rest?'\n",
    "                    'version=v4')\n",
    "    service = discovery.build('sheets', 'v4', http=http,\n",
    "                              discoveryServiceUrl=discoveryUrl)\n",
    "\n",
    "    spreadsheetId = '1BxiMVs0XRA5nFMdKvBdBZjgmUUqptlbs74OgvE2upms'\n",
    "    rangeName = 'Class Data!A2:E'\n",
    "    #values_to_add = {'values':[1, 2]}\n",
    "    #result_to_add = service.spreadsheets().values().append(\n",
    "    #    spreadsheetId=spreadsheetId, range=rangeName,\n",
    "    #    valueInputOption='RAW', body=values_to_add,\n",
    "    #    insertDataOption='INSERT_ROWS').execute()\n",
    "    result = service.spreadsheets().values().get(\n",
    "        spreadsheetId=spreadsheetId, range=rangeName).execute()\n",
    "    values = result.get('values', [])\n",
    "    \n",
    "    return np.array(values)\n",
    "\n",
    "    # if not values:\n",
    "    #     print('No data found.')\n",
    "    # else:\n",
    "    #     print('Name, Major:')\n",
    "    #     for row in values:\n",
    "    #         # Print columns A and E, which correspond to indices 0 and 4.\n",
    "    #         print('%s, %s' % (row[0], row[1]))"
   ]
  },
  {
   "cell_type": "code",
   "execution_count": 16,
   "metadata": {
    "collapsed": false
   },
   "outputs": [
    {
     "data": {
      "text/plain": [
       "array([[u'Alexandra', u'Female', u'4. Senior', u'CA', u'English'],\n",
       "       [u'Andrew', u'Male', u'1. Freshman', u'SD', u'Math'],\n",
       "       [u'Anna', u'Female', u'1. Freshman', u'NC', u'English'],\n",
       "       [u'Becky', u'Female', u'2. Sophomore', u'SD', u'Art'],\n",
       "       [u'Benjamin', u'Male', u'4. Senior', u'WI', u'English'],\n",
       "       [u'Carl', u'Male', u'3. Junior', u'MD', u'Art'],\n",
       "       [u'Carrie', u'Female', u'3. Junior', u'NE', u'English'],\n",
       "       [u'Dorothy', u'Female', u'4. Senior', u'MD', u'Math'],\n",
       "       [u'Dylan', u'Male', u'1. Freshman', u'MA', u'Math'],\n",
       "       [u'Edward', u'Male', u'3. Junior', u'FL', u'English'],\n",
       "       [u'Ellen', u'Female', u'1. Freshman', u'WI', u'Physics'],\n",
       "       [u'Fiona', u'Female', u'1. Freshman', u'MA', u'Art'],\n",
       "       [u'John', u'Male', u'3. Junior', u'CA', u'Physics'],\n",
       "       [u'Jonathan', u'Male', u'2. Sophomore', u'SC', u'Math'],\n",
       "       [u'Joseph', u'Male', u'1. Freshman', u'AK', u'English'],\n",
       "       [u'Josephine', u'Female', u'1. Freshman', u'NY', u'Math'],\n",
       "       [u'Karen', u'Female', u'2. Sophomore', u'NH', u'English'],\n",
       "       [u'Kevin', u'Male', u'2. Sophomore', u'NE', u'Physics'],\n",
       "       [u'Lisa', u'Female', u'3. Junior', u'SC', u'Art'],\n",
       "       [u'Mary', u'Female', u'2. Sophomore', u'AK', u'Physics'],\n",
       "       [u'Maureen', u'Female', u'1. Freshman', u'CA', u'Physics'],\n",
       "       [u'Nick', u'Male', u'4. Senior', u'NY', u'Art'],\n",
       "       [u'Olivia', u'Female', u'4. Senior', u'NC', u'Physics'],\n",
       "       [u'Pamela', u'Female', u'3. Junior', u'RI', u'Math'],\n",
       "       [u'Patrick', u'Male', u'1. Freshman', u'NY', u'Art'],\n",
       "       [u'Robert', u'Male', u'1. Freshman', u'CA', u'English'],\n",
       "       [u'Sean', u'Male', u'1. Freshman', u'NH', u'Physics'],\n",
       "       [u'Stacy', u'Female', u'1. Freshman', u'NY', u'Math'],\n",
       "       [u'Thomas', u'Male', u'2. Sophomore', u'RI', u'Art'],\n",
       "       [u'Will', u'Male', u'4. Senior', u'FL', u'Math']], \n",
       "      dtype='<U12')"
      ]
     },
     "execution_count": 16,
     "metadata": {},
     "output_type": "execute_result"
    }
   ],
   "source": [
    "import numpy as np\n",
    "main()"
   ]
  },
  {
   "cell_type": "code",
   "execution_count": 55,
   "metadata": {
    "collapsed": false
   },
   "outputs": [],
   "source": [
    "import gspread\n",
    "import numpy as np\n",
    "from oauth2client.service_account import ServiceAccountCredentials"
   ]
  },
  {
   "cell_type": "code",
   "execution_count": 56,
   "metadata": {
    "collapsed": false
   },
   "outputs": [],
   "source": [
    "scopes = ['https://spreadsheets.google.com/feeds']\n",
    "credentials = ServiceAccountCredentials.from_json_keyfile_name('Unknown.json', scopes=scopes)"
   ]
  },
  {
   "cell_type": "code",
   "execution_count": 47,
   "metadata": {
    "collapsed": false
   },
   "outputs": [
    {
     "data": {
      "text/plain": [
       "9"
      ]
     },
     "execution_count": 47,
     "metadata": {},
     "output_type": "execute_result"
    }
   ],
   "source": [
    "worksheet.resize(rows=1, cols=9)\n",
    "worksheet.col_count"
   ]
  },
  {
   "cell_type": "code",
   "execution_count": 57,
   "metadata": {
    "collapsed": false
   },
   "outputs": [],
   "source": [
    "gc = gspread.authorize(credentials)"
   ]
  },
  {
   "cell_type": "code",
   "execution_count": 58,
   "metadata": {
    "collapsed": false
   },
   "outputs": [],
   "source": [
    "worksheet = gc.open_by_key('14roBDAm52fwpkwPA-KiXkBDLZZL04jklQHifqgrMPKE').sheet1"
   ]
  },
  {
   "cell_type": "code",
   "execution_count": 37,
   "metadata": {
    "collapsed": false
   },
   "outputs": [
    {
     "data": {
      "text/plain": [
       "array([['1', '3'],\n",
       "       ['2', '4'],\n",
       "       ['3', '5'],\n",
       "       ..., \n",
       "       ['', ''],\n",
       "       ['1', '2'],\n",
       "       [\"['1', '2']\", '']], \n",
       "      dtype='|S10')"
      ]
     },
     "execution_count": 37,
     "metadata": {},
     "output_type": "execute_result"
    }
   ],
   "source": [
    "np.array(worksheet.get_all_values())"
   ]
  },
  {
   "cell_type": "code",
   "execution_count": 45,
   "metadata": {
    "collapsed": true
   },
   "outputs": [],
   "source": [
    "worksheet.append_row(['1', '2'])"
   ]
  },
  {
   "cell_type": "code",
   "execution_count": 90,
   "metadata": {
    "collapsed": false
   },
   "outputs": [
    {
     "data": {
      "text/plain": [
       "array([['Mean', 'Median', 'Skewness', 'Kurtosis', 'Uniformity', 'Entropy',\n",
       "        'Maximum', 'Minimum', 'Classification'],\n",
       "       ['153.6647339', '85', '0.8748033731', '-0.2773262702', '139986366',\n",
       "        '5', '1398', '0', '0']], \n",
       "      dtype='|S14')"
      ]
     },
     "execution_count": 90,
     "metadata": {},
     "output_type": "execute_result"
    }
   ],
   "source": [
    "arr = np.array(worksheet.get_all_values())\n",
    "arr"
   ]
  },
  {
   "cell_type": "code",
   "execution_count": 80,
   "metadata": {
    "collapsed": false
   },
   "outputs": [],
   "source": [
    "training_data = arr[1:, :-1].astype(float)"
   ]
  },
  {
   "cell_type": "code",
   "execution_count": 82,
   "metadata": {
    "collapsed": true
   },
   "outputs": [],
   "source": [
    "test_data = arr[1:, -1].astype(int)"
   ]
  },
  {
   "cell_type": "code",
   "execution_count": 81,
   "metadata": {
    "collapsed": false
   },
   "outputs": [
    {
     "data": {
      "text/plain": [
       "array([[  1.53664734e+02,   8.50000000e+01,   8.74803373e-01,\n",
       "         -2.77326270e-01,   1.39986366e+08,   5.00000000e+00,\n",
       "          1.39800000e+03,   0.00000000e+00]])"
      ]
     },
     "execution_count": 81,
     "metadata": {},
     "output_type": "execute_result"
    }
   ],
   "source": [
    "training_data"
   ]
  },
  {
   "cell_type": "code",
   "execution_count": 83,
   "metadata": {
    "collapsed": false
   },
   "outputs": [
    {
     "data": {
      "text/plain": [
       "array([0])"
      ]
     },
     "execution_count": 83,
     "metadata": {},
     "output_type": "execute_result"
    }
   ],
   "source": [
    "test_data"
   ]
  },
  {
   "cell_type": "code",
   "execution_count": 85,
   "metadata": {
    "collapsed": false
   },
   "outputs": [],
   "source": [
    "from sklearn.neural_network import MLPClassifier"
   ]
  },
  {
   "cell_type": "code",
   "execution_count": 91,
   "metadata": {
    "collapsed": true
   },
   "outputs": [],
   "source": [
    "X = training_data\n",
    "y = test_data"
   ]
  },
  {
   "cell_type": "code",
   "execution_count": 92,
   "metadata": {
    "collapsed": false
   },
   "outputs": [
    {
     "data": {
      "text/plain": [
       "(dtype('float64'), dtype('int64'))"
      ]
     },
     "execution_count": 92,
     "metadata": {},
     "output_type": "execute_result"
    }
   ],
   "source": [
    "X.dtype, y.dtype"
   ]
  },
  {
   "cell_type": "code",
   "execution_count": 93,
   "metadata": {
    "collapsed": false
   },
   "outputs": [
    {
     "data": {
      "text/plain": [
       "MLPClassifier(activation='relu', alpha=1e-05, batch_size='auto', beta_1=0.9,\n",
       "       beta_2=0.999, early_stopping=False, epsilon=1e-08,\n",
       "       hidden_layer_sizes=(10, 2), learning_rate='constant',\n",
       "       learning_rate_init=0.001, max_iter=200, momentum=0.9,\n",
       "       nesterovs_momentum=True, power_t=0.5, random_state=1, shuffle=True,\n",
       "       solver='lbfgs', tol=0.0001, validation_fraction=0.1, verbose=False,\n",
       "       warm_start=False)"
      ]
     },
     "execution_count": 93,
     "metadata": {},
     "output_type": "execute_result"
    }
   ],
   "source": [
    "clf = MLPClassifier(solver='lbfgs', alpha=1e-5, hidden_layer_sizes=(10, 2), random_state=1)\n",
    "\n",
    "clf.fit(X, y)"
   ]
  },
  {
   "cell_type": "code",
   "execution_count": 94,
   "metadata": {
    "collapsed": false
   },
   "outputs": [
    {
     "data": {
      "text/plain": [
       "array([0])"
      ]
     },
     "execution_count": 94,
     "metadata": {},
     "output_type": "execute_result"
    }
   ],
   "source": [
    "clf.predict(X)"
   ]
  },
  {
   "cell_type": "code",
   "execution_count": 95,
   "metadata": {
    "collapsed": false
   },
   "outputs": [
    {
     "data": {
      "text/plain": [
       "array([0])"
      ]
     },
     "execution_count": 95,
     "metadata": {},
     "output_type": "execute_result"
    }
   ],
   "source": []
  },
  {
   "cell_type": "code",
   "execution_count": null,
   "metadata": {
    "collapsed": true
   },
   "outputs": [],
   "source": []
  }
 ],
 "metadata": {
  "kernelspec": {
   "display_name": "Python 2",
   "language": "python",
   "name": "python2"
  },
  "language_info": {
   "codemirror_mode": {
    "name": "ipython",
    "version": 2
   },
   "file_extension": ".py",
   "mimetype": "text/x-python",
   "name": "python",
   "nbconvert_exporter": "python",
   "pygments_lexer": "ipython2",
   "version": "2.7.10"
  }
 },
 "nbformat": 4,
 "nbformat_minor": 1
}
