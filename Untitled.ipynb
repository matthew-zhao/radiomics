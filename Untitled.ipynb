{
 "cells": [
  {
   "cell_type": "code",
   "execution_count": 1,
   "metadata": {
    "collapsed": false
   },
   "outputs": [],
   "source": [
    "import numpy as np\n",
    "import dropbox"
   ]
  },
  {
   "cell_type": "code",
   "execution_count": 3,
   "metadata": {
    "collapsed": false
   },
   "outputs": [
    {
     "name": "stderr",
     "output_type": "stream",
     "text": [
      "/Users/MattZhao/Documents/radiomics/lib/python2.7/site-packages/ipykernel/__main__.py:1: DeprecationWarning: You are using a deprecated client. Please use the new v2 client located at dropbox.Dropbox.\n",
      "  if __name__ == '__main__':\n"
     ]
    },
    {
     "ename": "AttributeError",
     "evalue": "'dict' object has no attribute 'content'",
     "output_type": "error",
     "traceback": [
      "\u001b[0;31m---------------------------------------------------------------------------\u001b[0m",
      "\u001b[0;31mAttributeError\u001b[0m                            Traceback (most recent call last)",
      "\u001b[0;32m<ipython-input-3-d888fb2d4546>\u001b[0m in \u001b[0;36m<module>\u001b[0;34m()\u001b[0m\n\u001b[1;32m     10\u001b[0m \u001b[0;34m\u001b[0m\u001b[0m\n\u001b[1;32m     11\u001b[0m \u001b[0mf\u001b[0m\u001b[0;34m,\u001b[0m \u001b[0mmetadata\u001b[0m \u001b[0;34m=\u001b[0m \u001b[0mclient\u001b[0m\u001b[0;34m.\u001b[0m\u001b[0mget_file_and_metadata\u001b[0m\u001b[0;34m(\u001b[0m\u001b[0mpaths\u001b[0m\u001b[0;34m[\u001b[0m\u001b[0;36m0\u001b[0m\u001b[0;34m]\u001b[0m\u001b[0;34m)\u001b[0m\u001b[0;34m\u001b[0m\u001b[0m\n\u001b[0;32m---> 12\u001b[0;31m \u001b[0mdata\u001b[0m \u001b[0;34m=\u001b[0m \u001b[0mmetadata\u001b[0m\u001b[0;34m.\u001b[0m\u001b[0mcontent\u001b[0m\u001b[0;34m\u001b[0m\u001b[0m\n\u001b[0m",
      "\u001b[0;31mAttributeError\u001b[0m: 'dict' object has no attribute 'content'"
     ]
    }
   ],
   "source": [
    "client = dropbox.client.DropboxClient(\"U_0fQNo3MSAAAAAAAAAC_wLTPcM6V7FcPQ5Fo_vl1X4Oa7lJKk01uKRklVWTrzCx\")\n",
    "metadata = client.metadata(\"/Radiomics\")\n",
    "paths = []\n",
    "shape_dir = None\n",
    "for content in metadata['contents']:\n",
    "    if content['is_dir'] == False:\n",
    "        paths.append(content['path'])\n",
    "    else:\n",
    "        shape_dir = content['path']\n",
    "\n",
    "f, metadata = client.get_file_and_metadata(paths[0])\n",
    "data = metadata.content"
   ]
  },
  {
   "cell_type": "code",
   "execution_count": 72,
   "metadata": {
    "collapsed": false
   },
   "outputs": [
    {
     "data": {
      "text/plain": [
       "array([[[5, 5, 1, 2, 5],\n",
       "        [3, 4, 2, 3, 5],\n",
       "        [1, 5, 6, 4, 3],\n",
       "        [2, 3, 4, 5, 7],\n",
       "        [1, 2, 3, 4, 5]],\n",
       "\n",
       "       [[5, 5, 1, 2, 5],\n",
       "        [3, 4, 2, 3, 5],\n",
       "        [1, 5, 6, 4, 3],\n",
       "        [2, 3, 4, 5, 7],\n",
       "        [1, 2, 3, 4, 5]],\n",
       "\n",
       "       [[5, 5, 1, 2, 5],\n",
       "        [3, 4, 2, 3, 5],\n",
       "        [1, 5, 6, 4, 3],\n",
       "        [2, 3, 4, 5, 7],\n",
       "        [1, 2, 3, 4, 5]],\n",
       "\n",
       "       [[5, 5, 1, 2, 5],\n",
       "        [3, 4, 2, 3, 5],\n",
       "        [1, 5, 6, 4, 3],\n",
       "        [2, 3, 4, 5, 7],\n",
       "        [1, 2, 3, 4, 5]],\n",
       "\n",
       "       [[5, 5, 1, 2, 5],\n",
       "        [3, 4, 2, 3, 5],\n",
       "        [1, 5, 6, 4, 3],\n",
       "        [2, 3, 4, 5, 7],\n",
       "        [1, 2, 3, 4, 5]],\n",
       "\n",
       "       [[5, 5, 1, 2, 5],\n",
       "        [3, 4, 2, 3, 5],\n",
       "        [1, 5, 6, 4, 3],\n",
       "        [2, 3, 4, 5, 7],\n",
       "        [1, 2, 3, 4, 5]]])"
      ]
     },
     "execution_count": 72,
     "metadata": {},
     "output_type": "execute_result"
    }
   ],
   "source": [
    "arr_2 = np.array([[[5, 5, 1, 2, 5], [3, 4, 2, 3, 5], [1, 5, 6, 4, 3], [2, 3, 4, 5, 7], [1, 2, 3, 4, 5]]])\n",
    "arr_concat = np.concatenate([arr_concat, arr_2], axis=0)\n",
    "arr_concat"
   ]
  },
  {
   "cell_type": "code",
   "execution_count": 73,
   "metadata": {
    "collapsed": false
   },
   "outputs": [
    {
     "data": {
      "text/plain": [
       "3"
      ]
     },
     "execution_count": 73,
     "metadata": {},
     "output_type": "execute_result"
    }
   ],
   "source": [
    "len(arr_concat.shape)"
   ]
  },
  {
   "cell_type": "code",
   "execution_count": 74,
   "metadata": {
    "collapsed": false
   },
   "outputs": [
    {
     "data": {
      "text/plain": [
       "array([[[ 1.,  1.,  1.,  1.,  1.],\n",
       "        [ 1.,  1.,  1.,  1.,  1.],\n",
       "        [ 1.,  1.,  1.,  1.,  1.],\n",
       "        [ 1.,  1.,  1.,  1.,  1.],\n",
       "        [ 1.,  1.,  1.,  1.,  1.]],\n",
       "\n",
       "       [[ 1.,  1.,  1.,  1.,  1.],\n",
       "        [ 1.,  1.,  1.,  1.,  1.],\n",
       "        [ 1.,  1.,  1.,  1.,  1.],\n",
       "        [ 1.,  1.,  1.,  1.,  1.],\n",
       "        [ 1.,  1.,  1.,  1.,  1.]],\n",
       "\n",
       "       [[ 1.,  1.,  1.,  1.,  1.],\n",
       "        [ 1.,  1.,  1.,  1.,  1.],\n",
       "        [ 1.,  1.,  1.,  1.,  1.],\n",
       "        [ 1.,  1.,  1.,  1.,  1.],\n",
       "        [ 1.,  1.,  1.,  1.,  1.]],\n",
       "\n",
       "       [[ 1.,  1.,  1.,  1.,  1.],\n",
       "        [ 1.,  1.,  1.,  1.,  1.],\n",
       "        [ 1.,  1.,  1.,  1.,  1.],\n",
       "        [ 1.,  1.,  1.,  1.,  1.],\n",
       "        [ 1.,  1.,  1.,  1.,  1.]],\n",
       "\n",
       "       [[ 1.,  1.,  1.,  1.,  1.],\n",
       "        [ 1.,  1.,  1.,  1.,  1.],\n",
       "        [ 1.,  1.,  1.,  1.,  1.],\n",
       "        [ 1.,  1.,  1.,  1.,  1.],\n",
       "        [ 1.,  1.,  1.,  1.,  1.]]])"
      ]
     },
     "execution_count": 74,
     "metadata": {},
     "output_type": "execute_result"
    }
   ],
   "source": [
    "#arr = np.array([[5, 5, 1, 2, 5], [3, 4, 2, 3, 5], [1, 5, 6, 4, 3], [2, 3, 4, 5, 7], [1, 2, 3, 4, 5]])\n",
    "arr = np.ones((5, 5, 5))\n",
    "arr"
   ]
  },
  {
   "cell_type": "code",
   "execution_count": 75,
   "metadata": {
    "collapsed": true
   },
   "outputs": [],
   "source": [
    "import scipy\n",
    "from scipy import ndimage\n",
    "from scipy.ndimage import generic_filter\n",
    "from scipy.ndimage import filters\n",
    "from scipy.ndimage.filters import convolve\n"
   ]
  },
  {
   "cell_type": "code",
   "execution_count": 76,
   "metadata": {
    "collapsed": false
   },
   "outputs": [],
   "source": [
    "def mean(a):\n",
    "    a = a.reshape((3,3))\n",
    "    weights = np.array([[0.5,.05,0.5],[0.5,1,0.5],[0.5,0.5,0.5]])\n",
    "    a = np.multiply(a,weights)\n",
    "    a = np.sum(a)\n",
    "    return a"
   ]
  },
  {
   "cell_type": "code",
   "execution_count": 77,
   "metadata": {
    "collapsed": false
   },
   "outputs": [],
   "source": [
    "mean = generic_filter(arr, np.mean, size=3, mode='constant')\n",
    "mean_concat = generic_filter(arr_concat, np.mean, size=3, mode='constant')"
   ]
  },
  {
   "cell_type": "code",
   "execution_count": 78,
   "metadata": {
    "collapsed": false
   },
   "outputs": [],
   "source": [
    "median = generic_filter(arr, np.median, size=3, mode='constant')\n",
    "median_concat = generic_filter(arr_concat, np.median, size=3, mode='constant')"
   ]
  },
  {
   "cell_type": "code",
   "execution_count": 79,
   "metadata": {
    "collapsed": false
   },
   "outputs": [],
   "source": [
    "kurtosis = generic_filter(arr, scipy.stats.kurtosis, size=3, mode='constant')\n",
    "kurtosis_concat = generic_filter(arr_concat, scipy.stats.kurtosis, size=3, mode='constant')"
   ]
  },
  {
   "cell_type": "code",
   "execution_count": 80,
   "metadata": {
    "collapsed": false
   },
   "outputs": [],
   "source": [
    "skewness = generic_filter(arr, scipy.stats.skew, size=3, mode='constant')\n",
    "skewness_concat = generic_filter(arr_concat, scipy.stats.skew, size=3, mode='constant')"
   ]
  },
  {
   "cell_type": "code",
   "execution_count": 81,
   "metadata": {
    "collapsed": false
   },
   "outputs": [],
   "source": [
    "def entropy(arr):\n",
    "    #print(arr)\n",
    "    log_ret = np.log2(scipy.histogram(arr,8)[0])\n",
    "    log_ret[log_ret==-np.inf]=0\n",
    "    return np.dot(scipy.histogram(arr, 8)[0], log_ret)\n"
   ]
  },
  {
   "cell_type": "code",
   "execution_count": 82,
   "metadata": {
    "collapsed": false
   },
   "outputs": [
    {
     "name": "stderr",
     "output_type": "stream",
     "text": [
      "/Users/MattZhao/anaconda3/lib/python3.4/site-packages/IPython/kernel/__main__.py:3: RuntimeWarning: divide by zero encountered in log2\n",
      "  app.launch_new_instance()\n"
     ]
    },
    {
     "data": {
      "text/plain": [
       "array([[[63, 60, 60],\n",
       "        [60, 69, 60],\n",
       "        [60, 69, 69]],\n",
       "\n",
       "       [[63, 60, 60],\n",
       "        [60, 69, 60],\n",
       "        [60, 69, 69]],\n",
       "\n",
       "       [[63, 60, 60],\n",
       "        [60, 69, 60],\n",
       "        [60, 69, 69]],\n",
       "\n",
       "       [[63, 60, 60],\n",
       "        [60, 69, 60],\n",
       "        [60, 69, 69]]])"
      ]
     },
     "execution_count": 82,
     "metadata": {},
     "output_type": "execute_result"
    }
   ],
   "source": [
    "\n",
    "entropy_value = generic_filter(arr_concat, entropy, size=3, mode='constant')[1:-1, 1:-1, 1:-1]\n",
    "entropy_value"
   ]
  },
  {
   "cell_type": "code",
   "execution_count": 83,
   "metadata": {
    "collapsed": true
   },
   "outputs": [],
   "source": [
    "X = np.array([[[mean], [median], [kurtosis], [skewness]], [[mean_concat], [median_concat], [kurtosis_concat], [skewness_concat]]])"
   ]
  },
  {
   "cell_type": "code",
   "execution_count": 84,
   "metadata": {
    "collapsed": false
   },
   "outputs": [
    {
     "data": {
      "text/plain": [
       "array([[[ array([[[ 1.,  1.,  1.],\n",
       "        [ 1.,  1.,  1.],\n",
       "        [ 1.,  1.,  1.]],\n",
       "\n",
       "       [[ 1.,  1.,  1.],\n",
       "        [ 1.,  1.,  1.],\n",
       "        [ 1.,  1.,  1.]],\n",
       "\n",
       "       [[ 1.,  1.,  1.],\n",
       "        [ 1.,  1.,  1.],\n",
       "        [ 1.,  1.,  1.]]])],\n",
       "        [ array([[[ 1.,  1.,  1.],\n",
       "        [ 1.,  1.,  1.],\n",
       "        [ 1.,  1.,  1.]],\n",
       "\n",
       "       [[ 1.,  1.,  1.],\n",
       "        [ 1.,  1.,  1.],\n",
       "        [ 1.,  1.,  1.]],\n",
       "\n",
       "       [[ 1.,  1.,  1.],\n",
       "        [ 1.,  1.,  1.],\n",
       "        [ 1.,  1.,  1.]]])],\n",
       "        [ array([[[-3., -3., -3.],\n",
       "        [-3., -3., -3.],\n",
       "        [-3., -3., -3.]],\n",
       "\n",
       "       [[-3., -3., -3.],\n",
       "        [-3., -3., -3.],\n",
       "        [-3., -3., -3.]],\n",
       "\n",
       "       [[-3., -3., -3.],\n",
       "        [-3., -3., -3.],\n",
       "        [-3., -3., -3.]]])],\n",
       "        [ array([[[ 0.,  0.,  0.],\n",
       "        [ 0.,  0.,  0.],\n",
       "        [ 0.,  0.,  0.]],\n",
       "\n",
       "       [[ 0.,  0.,  0.],\n",
       "        [ 0.,  0.,  0.],\n",
       "        [ 0.,  0.,  0.]],\n",
       "\n",
       "       [[ 0.,  0.,  0.],\n",
       "        [ 0.,  0.,  0.],\n",
       "        [ 0.,  0.,  0.]]])]],\n",
       "\n",
       "       [[ array([[[3, 3, 3],\n",
       "        [3, 4, 4],\n",
       "        [3, 4, 4]],\n",
       "\n",
       "       [[3, 3, 3],\n",
       "        [3, 4, 4],\n",
       "        [3, 4, 4]],\n",
       "\n",
       "       [[3, 3, 3],\n",
       "        [3, 4, 4],\n",
       "        [3, 4, 4]],\n",
       "\n",
       "       [[3, 3, 3],\n",
       "        [3, 4, 4],\n",
       "        [3, 4, 4]]])],\n",
       "        [ array([[[4, 4, 3],\n",
       "        [3, 4, 4],\n",
       "        [3, 4, 4]],\n",
       "\n",
       "       [[4, 4, 3],\n",
       "        [3, 4, 4],\n",
       "        [3, 4, 4]],\n",
       "\n",
       "       [[4, 4, 3],\n",
       "        [3, 4, 4],\n",
       "        [3, 4, 4]],\n",
       "\n",
       "       [[4, 4, 3],\n",
       "        [3, 4, 4],\n",
       "        [3, 4, 4]]])],\n",
       "        [ array([[[-1, -1, -1],\n",
       "        [ 0,  0,  0],\n",
       "        [ 0,  0,  0]],\n",
       "\n",
       "       [[-1, -1, -1],\n",
       "        [ 0,  0,  0],\n",
       "        [ 0,  0,  0]],\n",
       "\n",
       "       [[-1, -1, -1],\n",
       "        [ 0,  0,  0],\n",
       "        [ 0,  0,  0]],\n",
       "\n",
       "       [[-1, -1, -1],\n",
       "        [ 0,  0,  0],\n",
       "        [ 0,  0,  0]]])],\n",
       "        [ array([[[0, 0, 0],\n",
       "        [0, 0, 0],\n",
       "        [0, 0, 0]],\n",
       "\n",
       "       [[0, 0, 0],\n",
       "        [0, 0, 0],\n",
       "        [0, 0, 0]],\n",
       "\n",
       "       [[0, 0, 0],\n",
       "        [0, 0, 0],\n",
       "        [0, 0, 0]],\n",
       "\n",
       "       [[0, 0, 0],\n",
       "        [0, 0, 0],\n",
       "        [0, 0, 0]]])]]], dtype=object)"
      ]
     },
     "execution_count": 84,
     "metadata": {},
     "output_type": "execute_result"
    }
   ],
   "source": [
    "X"
   ]
  },
  {
   "cell_type": "code",
   "execution_count": 16,
   "metadata": {
    "collapsed": true
   },
   "outputs": [],
   "source": [
    "from sklearn.neural_network import MLPClassifier\n",
    "import numpy as np"
   ]
  },
  {
   "cell_type": "code",
   "execution_count": 39,
   "metadata": {
    "collapsed": true
   },
   "outputs": [],
   "source": [
    "clf = MLPClassifier(solver='lbfgs', alpha=1e-5, hidden_layer_sizes=(10, 2), random_state=1)"
   ]
  },
  {
   "cell_type": "code",
   "execution_count": 40,
   "metadata": {
    "collapsed": true
   },
   "outputs": [],
   "source": [
    "y = np.array([0, 1])"
   ]
  },
  {
   "cell_type": "code",
   "execution_count": null,
   "metadata": {
    "collapsed": false
   },
   "outputs": [],
   "source": []
  },
  {
   "cell_type": "code",
   "execution_count": 49,
   "metadata": {
    "collapsed": false
   },
   "outputs": [
    {
     "data": {
      "text/plain": [
       "array([[ 0.,  1.,  1.,  1.,  0.],\n",
       "       [ 1.,  1.,  1.,  1.,  1.],\n",
       "       [ 1.,  1.,  1.,  1.,  1.],\n",
       "       [ 1.,  1.,  1.,  1.,  1.],\n",
       "       [ 0.,  1.,  1.,  1.,  0.]])"
      ]
     },
     "execution_count": 49,
     "metadata": {},
     "output_type": "execute_result"
    }
   ],
   "source": [
    "gf = generic_filter(arr, np.median, size=3, mode='constant')\n",
    "gf"
   ]
  },
  {
   "cell_type": "code",
   "execution_count": 50,
   "metadata": {
    "collapsed": false
   },
   "outputs": [
    {
     "data": {
      "text/plain": [
       "array([[-1.95, -1.5 , -1.5 , -1.5 , -1.95],\n",
       "       [-1.5 , -3.  , -3.  , -3.  , -1.5 ],\n",
       "       [-1.5 , -3.  , -3.  , -3.  , -1.5 ],\n",
       "       [-1.5 , -3.  , -3.  , -3.  , -1.5 ],\n",
       "       [-1.95, -1.5 , -1.5 , -1.5 , -1.95]])"
      ]
     },
     "execution_count": 50,
     "metadata": {},
     "output_type": "execute_result"
    }
   ],
   "source": [
    "gf = generic_filter(arr, scipy.stats.kurtosis, size=3, mode='constant')\n",
    "gf"
   ]
  },
  {
   "cell_type": "code",
   "execution_count": 51,
   "metadata": {
    "collapsed": false
   },
   "outputs": [
    {
     "data": {
      "text/plain": [
       "array([[ 0.2236068 , -0.70710678, -0.70710678, -0.70710678,  0.2236068 ],\n",
       "       [-0.70710678,  0.        ,  0.        ,  0.        , -0.70710678],\n",
       "       [-0.70710678,  0.        ,  0.        ,  0.        , -0.70710678],\n",
       "       [-0.70710678,  0.        ,  0.        ,  0.        , -0.70710678],\n",
       "       [ 0.2236068 , -0.70710678, -0.70710678, -0.70710678,  0.2236068 ]])"
      ]
     },
     "execution_count": 51,
     "metadata": {},
     "output_type": "execute_result"
    }
   ],
   "source": [
    "gf = generic_filter(arr, scipy.stats.skew, size=3, mode='constant')\n",
    "gf"
   ]
  },
  {
   "cell_type": "code",
   "execution_count": 43,
   "metadata": {
    "collapsed": false
   },
   "outputs": [
    {
     "data": {
      "text/plain": [
       "array([1, 2, 3, 4, 1, 2, 3, 4])"
      ]
     },
     "execution_count": 43,
     "metadata": {},
     "output_type": "execute_result"
    }
   ],
   "source": [
    "arr = np.array([1, 2, 3, 4])\n",
    "np.append(arr, np.array([1, 2, 3, 4]))"
   ]
  },
  {
   "cell_type": "code",
   "execution_count": 18,
   "metadata": {
    "collapsed": false
   },
   "outputs": [
    {
     "data": {
      "text/plain": [
       "6.7548875021634682"
      ]
     },
     "execution_count": 18,
     "metadata": {},
     "output_type": "execute_result"
    }
   ],
   "source": [
    "np.dot(h[0], np.log2(h[0]))"
   ]
  },
  {
   "cell_type": "code",
   "execution_count": 2,
   "metadata": {
    "collapsed": false
   },
   "outputs": [],
   "source": [
    "from sklearn.neural_network import MLPClassifier\n",
    "import numpy as np"
   ]
  },
  {
   "cell_type": "code",
   "execution_count": 3,
   "metadata": {
    "collapsed": true
   },
   "outputs": [],
   "source": [
    "clf = MLPClassifier(solver='lbfgs', alpha=1e-5, hidden_layer_sizes=(10, 2), random_state=1)"
   ]
  },
  {
   "cell_type": "code",
   "execution_count": 4,
   "metadata": {
    "collapsed": false
   },
   "outputs": [],
   "source": [
    "X = np.array([[2, 2], [1, 1]])\n",
    "y = np.array([0, 1])"
   ]
  },
  {
   "cell_type": "code",
   "execution_count": 5,
   "metadata": {
    "collapsed": false
   },
   "outputs": [
    {
     "data": {
      "text/plain": [
       "MLPClassifier(activation='relu', alpha=1e-05, batch_size='auto', beta_1=0.9,\n",
       "       beta_2=0.999, early_stopping=False, epsilon=1e-08,\n",
       "       hidden_layer_sizes=(10, 2), learning_rate='constant',\n",
       "       learning_rate_init=0.001, max_iter=200, momentum=0.9,\n",
       "       nesterovs_momentum=True, power_t=0.5, random_state=1, shuffle=True,\n",
       "       solver='lbfgs', tol=0.0001, validation_fraction=0.1, verbose=False,\n",
       "       warm_start=False)"
      ]
     },
     "execution_count": 5,
     "metadata": {},
     "output_type": "execute_result"
    }
   ],
   "source": [
    "clf.fit(X, y)"
   ]
  },
  {
   "cell_type": "code",
   "execution_count": 89,
   "metadata": {
    "collapsed": false
   },
   "outputs": [
    {
     "data": {
      "text/plain": [
       "[array([[-0.46064378,  2.88536582, -0.64676897,  2.0769117 , -0.4570392 ,\n",
       "         -2.32596755, -0.40592717, -0.19981877, -0.13356574, -0.19723841],\n",
       "        [-0.45783292,  2.83994579, -0.3823897 ,  2.82188168, -0.61148195,\n",
       "         -1.57796476, -0.10699385,  0.07593489, -0.46527957, -0.63806734]]),\n",
       " array([[-2.30362573, -1.4970695 ],\n",
       "        [ 1.8777421 ,  1.00225439],\n",
       "        [ 0.24825711, -0.23869213],\n",
       "        [ 1.00610354,  0.87627316],\n",
       "        [-0.62325496,  0.32364519],\n",
       "        [ 0.22257215, -0.01220026],\n",
       "        [-0.28406901,  0.3742794 ],\n",
       "        [-0.51335964, -0.06741712],\n",
       "        [ 0.52865471, -0.26702901],\n",
       "        [-2.64701176, -2.02125933]]),\n",
       " array([[-5.36545953],\n",
       "        [-1.05463039]])]"
      ]
     },
     "execution_count": 89,
     "metadata": {},
     "output_type": "execute_result"
    }
   ],
   "source": [
    "clf.coefs_"
   ]
  },
  {
   "cell_type": "code",
   "execution_count": 25,
   "metadata": {
    "collapsed": false
   },
   "outputs": [
    {
     "name": "stderr",
     "output_type": "stream",
     "text": [
      "/Users/MattZhao/anaconda3/lib/python3.4/site-packages/sklearn/utils/validation.py:395: DeprecationWarning: Passing 1d arrays as data is deprecated in 0.17 and will raise ValueError in 0.19. Reshape your data either using X.reshape(-1, 1) if your data has a single feature or X.reshape(1, -1) if it contains a single sample.\n",
      "  DeprecationWarning)\n"
     ]
    },
    {
     "data": {
      "text/plain": [
       "array([0])"
      ]
     },
     "execution_count": 25,
     "metadata": {},
     "output_type": "execute_result"
    }
   ],
   "source": [
    "clf.predict([1, 4])"
   ]
  },
  {
   "cell_type": "code",
   "execution_count": 4,
   "metadata": {
    "collapsed": false
   },
   "outputs": [],
   "source": [
    "from sklearn.neural_network import MLPClassifier\n",
    "import pickle\n",
    "import gspread\n",
    "import numpy as np\n",
    "from oauth2client.service_account import ServiceAccountCredentials"
   ]
  },
  {
   "cell_type": "code",
   "execution_count": 3,
   "metadata": {
    "collapsed": false
   },
   "outputs": [],
   "source": [
    "import gspread\n",
    "import dropbox\n",
    "import base64\n",
    "import scipy\n",
    "import numpy as np\n",
    "from scipy import stats\n",
    "from scipy import ndimage\n",
    "from oauth2client.service_account import ServiceAccountCredentials"
   ]
  },
  {
   "cell_type": "code",
   "execution_count": 5,
   "metadata": {
    "collapsed": false
   },
   "outputs": [],
   "source": [
    "def retrieve(event):\n",
    "    client = dropbox.Dropbox(event[\"auth_token\"])\n",
    "    f, metadata = client.files_download(event[\"from_url\"])\n",
    "    f_shape, metadata_shape = client.files_download(event[\"from_url\"].strip(\".txt\") +\"_shape.txt\")\n",
    "    data = metadata.content\n",
    "\n",
    "    metadata_shape = metadata_shape.content\n",
    "    args = metadata_shape.split(\"\\n\")\n",
    "    \n",
    "    decoded_array = base64.decodestring(data)\n",
    "\n",
    "    array = np.frombuffer(decoded_array, dtype=eval(\"np.\" + args[-1]))\n",
    "    list_args = []\n",
    "    for i in range(len(args)-1):\n",
    "        list_args.append(int(args[i]))\n",
    "    result_array = np.reshape(array, tuple(list_args))\n",
    "    return result_array"
   ]
  },
  {
   "cell_type": "code",
   "execution_count": 6,
   "metadata": {
    "collapsed": false
   },
   "outputs": [],
   "source": [
    "scopes = ['https://spreadsheets.google.com/feeds']\n",
    "credentials = ServiceAccountCredentials.from_json_keyfile_name('Unknown.json', scopes=scopes)\n",
    "gc = gspread.authorize(credentials)\n",
    "worksheet = gc.open_by_key('14roBDAm52fwpkwPA-KiXkBDLZZL04jklQHifqgrMPKE').sheet1"
   ]
  },
  {
   "cell_type": "code",
   "execution_count": 7,
   "metadata": {
    "collapsed": true
   },
   "outputs": [],
   "source": [
    "np_array = retrieve({\"auth_token\": \"N9kh0xbDKVAAAAAAAAACSwiY_kXreAFnlppc5enrnf4zjgxH4_sydlgVqS5SCVca\", \"from_url\": \"/image12.txt\"})"
   ]
  },
  {
   "cell_type": "code",
   "execution_count": 5,
   "metadata": {
    "collapsed": false
   },
   "outputs": [
    {
     "data": {
      "text/plain": [
       "array([[ 0,  0,  0, ...,  0,  0,  0],\n",
       "       [ 0,  6,  5, ...,  9,  8, 10],\n",
       "       [ 0,  3,  3, ...,  6,  9,  7],\n",
       "       ..., \n",
       "       [ 0, 29, 23, ..., 48, 33, 36],\n",
       "       [ 0, 16, 11, ..., 24, 40, 32],\n",
       "       [ 0, 26, 19, ..., 20, 33, 38]], dtype=uint16)"
      ]
     },
     "execution_count": 5,
     "metadata": {},
     "output_type": "execute_result"
    }
   ],
   "source": [
    "np_array"
   ]
  },
  {
   "cell_type": "code",
   "execution_count": 6,
   "metadata": {
    "collapsed": false
   },
   "outputs": [
    {
     "data": {
      "text/plain": [
       "(256, 256)"
      ]
     },
     "execution_count": 6,
     "metadata": {},
     "output_type": "execute_result"
    }
   ],
   "source": [
    "np_array.shape"
   ]
  },
  {
   "cell_type": "code",
   "execution_count": 9,
   "metadata": {
    "collapsed": false
   },
   "outputs": [
    {
     "name": "stderr",
     "output_type": "stream",
     "text": [
      "/Users/MattZhao/Documents/radiomics/lib/python2.7/site-packages/ipykernel/__main__.py:23: RuntimeWarning: divide by zero encountered in log2\n"
     ]
    }
   ],
   "source": [
    "values = analyze(np_array)"
   ]
  },
  {
   "cell_type": "code",
   "execution_count": 10,
   "metadata": {
    "collapsed": false
   },
   "outputs": [
    {
     "data": {
      "text/plain": [
       "array([ 1,  3,  3, ..., 20, 20, 20], dtype=uint16)"
      ]
     },
     "execution_count": 10,
     "metadata": {},
     "output_type": "execute_result"
    }
   ],
   "source": [
    "values"
   ]
  },
  {
   "cell_type": "code",
   "execution_count": 11,
   "metadata": {
    "collapsed": false
   },
   "outputs": [
    {
     "ename": "AttributeError",
     "evalue": "'Worksheet' object has no attribute 'append_column'",
     "output_type": "error",
     "traceback": [
      "\u001b[0;31m---------------------------------------------------------------------------\u001b[0m",
      "\u001b[0;31mAttributeError\u001b[0m                            Traceback (most recent call last)",
      "\u001b[0;32m<ipython-input-11-c1531f018a35>\u001b[0m in \u001b[0;36m<module>\u001b[0;34m()\u001b[0m\n\u001b[0;32m----> 1\u001b[0;31m \u001b[0mworksheet\u001b[0m\u001b[0;34m.\u001b[0m\u001b[0mappend_column\u001b[0m\u001b[0;34m(\u001b[0m\u001b[0mvalues\u001b[0m\u001b[0;34m)\u001b[0m\u001b[0;34m\u001b[0m\u001b[0m\n\u001b[0m\u001b[1;32m      2\u001b[0m \u001b[0;32mreturn\u001b[0m \u001b[0;36m0\u001b[0m\u001b[0;34m\u001b[0m\u001b[0m\n",
      "\u001b[0;31mAttributeError\u001b[0m: 'Worksheet' object has no attribute 'append_column'"
     ]
    }
   ],
   "source": [
    "worksheet.append_column(values)\n",
    "return 0"
   ]
  },
  {
   "cell_type": "code",
   "execution_count": 8,
   "metadata": {
    "collapsed": true
   },
   "outputs": [],
   "source": [
    "def analyze(arr_arg):\n",
    "    result = None\n",
    "    arr = np.array(arr_arg)\n",
    "    h = scipy.histogram(arr, 256)\n",
    "    dim = len(arr.shape)\n",
    "    def func(arr):\n",
    "        if dim == 3:\n",
    "            return arr[1:-1, 1:-1, 1:-1]\n",
    "        else:\n",
    "            return arr[1:-1, 1:-1]\n",
    "    gf = func(scipy.ndimage.generic_filter(arr, scipy.mean, size = 3, mode = 'constant'))\n",
    "    result = gf.flatten()\n",
    "    gf = func(scipy.ndimage.generic_filter(arr, scipy.median, size = 3, mode = 'constant'))\n",
    "    result = np.append(result, gf.flatten())\n",
    "    gf = func(scipy.ndimage.generic_filter(arr, scipy.stats.skew, size = 3, mode = 'constant'))\n",
    "    result = np.append(result, gf.flatten())\n",
    "    gf = func(scipy.ndimage.generic_filter(arr, scipy.stats.kurtosis, size = 3, mode = 'constant'))\n",
    "    result = np.append(result, gf.flatten())\n",
    "    uniformity = lambda arr : scipy.sum(np.square((scipy.histogram(arr, 256)[0])))\n",
    "    gf = func(scipy.ndimage.generic_filter(arr, uniformity, size = 3, mode = 'constant'))\n",
    "    result = np.append(result, gf.flatten())\n",
    "    def entropy(arr):\n",
    "        log_ret = np.log2(scipy.histogram(arr, 256)[0])\n",
    "        log_ret[log_ret==-np.inf]=0\n",
    "        return np.dot(scipy.histogram(arr, 256)[0], log_ret)  \n",
    "    gf = func(scipy.ndimage.generic_filter(arr, entropy, size = 3, mode = 'constant'))\n",
    "    result = np.append(result, gf.flatten())\n",
    "    gf = func(scipy.ndimage.generic_filter(arr, np.amax, size = 3, mode = 'constant'))\n",
    "    result = np.append(result, gf.flatten())\n",
    "    gf = func(scipy.ndimage.generic_filter(arr, np.amin, size = 3, mode = 'constant'))\n",
    "    result = np.append(result, gf.flatten())\n",
    "    return result"
   ]
  },
  {
   "cell_type": "code",
   "execution_count": 14,
   "metadata": {
    "collapsed": false
   },
   "outputs": [],
   "source": [
    "key = '14roBDAm52fwpkwPA-KiXkBDLZZL04jklQHifqgrMPKE'\n",
    "scopes = ['https://spreadsheets.google.com/feeds']\n",
    "credentials = ServiceAccountCredentials.from_json_keyfile_name('Unknown.json', scopes=scopes)\n",
    "gc = gspread.authorize(credentials)\n",
    "worksheet = gc.open_by_key(key).sheet1\n",
    "arr = np.array(worksheet.get_all_values())\n",
    "X = arr[1:, :-1]\n",
    "y = arr[1:, -1]"
   ]
  },
  {
   "cell_type": "code",
   "execution_count": 16,
   "metadata": {
    "collapsed": false
   },
   "outputs": [],
   "source": [
    "X_converted = X.astype(np.float)\n",
    "y_converted = y.astype(np.float)"
   ]
  },
  {
   "cell_type": "code",
   "execution_count": 19,
   "metadata": {
    "collapsed": false
   },
   "outputs": [
    {
     "data": {
      "text/plain": [
       "dtype('float64')"
      ]
     },
     "execution_count": 19,
     "metadata": {},
     "output_type": "execute_result"
    }
   ],
   "source": [
    "X_converted.dtype"
   ]
  },
  {
   "cell_type": "code",
   "execution_count": 20,
   "metadata": {
    "collapsed": false
   },
   "outputs": [
    {
     "data": {
      "text/plain": [
       "MLPClassifier(activation='relu', alpha=1e-05, batch_size='auto', beta_1=0.9,\n",
       "       beta_2=0.999, early_stopping=False, epsilon=1e-08,\n",
       "       hidden_layer_sizes=(10, 2), learning_rate='constant',\n",
       "       learning_rate_init=0.001, max_iter=200, momentum=0.9,\n",
       "       nesterovs_momentum=True, power_t=0.5, random_state=1, shuffle=True,\n",
       "       solver='lbfgs', tol=0.0001, validation_fraction=0.1, verbose=False,\n",
       "       warm_start=False)"
      ]
     },
     "execution_count": 20,
     "metadata": {},
     "output_type": "execute_result"
    }
   ],
   "source": [
    "clf = MLPClassifier(solver='lbfgs', alpha=1e-5, hidden_layer_sizes=(10, 2), random_state=1)\n",
    "clf.fit(X_converted, y_converted)"
   ]
  },
  {
   "cell_type": "code",
   "execution_count": 28,
   "metadata": {
    "collapsed": true
   },
   "outputs": [],
   "source": [
    "s = pickle.dumps(clf)\n",
    "worksheet2 = gc.open_by_key(key).get_worksheet(1)"
   ]
  },
  {
   "cell_type": "code",
   "execution_count": 33,
   "metadata": {
    "collapsed": false
   },
   "outputs": [
    {
     "data": {
      "text/plain": [
       "'ccopy_reg\\n_reconstructor\\np0\\n(csklearn.neural_network.multilayer_perceptron\\nMLPClassifier\\np1\\nc__builtin__\\nobject\\np2\\nNtp3\\nRp4\\n(dp5\\nS\\'_intercept_indptr\\'\\np6\\n(lp7\\n(I102\\nI112\\ntp8\\na(I112\\nI114\\ntp9\\na(I114\\nI115\\ntp10\\nasS\\'t_\\'\\np11\\nI0\\nsS\\'shuffle\\'\\np12\\nI01\\nsS\\'verbose\\'\\np13\\nI00\\nsS\\'n_outputs_\\'\\np14\\nI1\\nsS\\'classes_\\'\\np15\\ncnumpy.core.multiarray\\n_reconstruct\\np16\\n(cnumpy\\nndarray\\np17\\n(I0\\ntp18\\nS\\'b\\'\\np19\\ntp20\\nRp21\\n(I1\\n(I2\\ntp22\\ncnumpy\\ndtype\\np23\\n(S\\'f8\\'\\np24\\nI0\\nI1\\ntp25\\nRp26\\n(I3\\nS\\'<\\'\\np27\\nNNNI-1\\nI-1\\nI0\\ntp28\\nbI00\\nS\\'\\\\x00\\\\x00\\\\x00\\\\x00\\\\x00\\\\x00\\\\x00\\\\x00\\\\x00\\\\x00\\\\x00\\\\x00\\\\x00\\\\x00\\\\xf0?\\'\\np29\\ntp30\\nbsS\\'_label_binarizer\\'\\np31\\ng0\\n(csklearn.preprocessing.label\\nLabelBinarizer\\np32\\ng2\\nNtp33\\nRp34\\n(dp35\\nS\\'neg_label\\'\\np36\\nI0\\nsS\\'sparse_input_\\'\\np37\\nI00\\nsS\\'sparse_output\\'\\np38\\nI00\\nsg15\\ng21\\nsS\\'y_type_\\'\\np39\\nS\\'binary\\'\\np40\\nsS\\'pos_label\\'\\np41\\nI1\\nsS\\'_sklearn_version\\'\\np42\\nS\\'0.18.1\\'\\np43\\nsbsS\\'_coef_indptr\\'\\np44\\n(lp45\\n(I0\\nI80\\n(I8\\nI10\\ntp46\\ntp47\\na(I80\\nI100\\n(I10\\nI2\\ntp48\\ntp49\\na(I100\\nI102\\n(I2\\nI1\\ntp50\\ntp51\\nasS\\'_random_state\\'\\np52\\ncnumpy.random\\n__RandomState_ctor\\np53\\n(tRp54\\n(S\\'MT19937\\'\\np55\\ng16\\n(g17\\n(I0\\ntp56\\ng19\\ntp57\\nRp58\\n(I1\\n(I624\\ntp59\\ng23\\n(S\\'u4\\'\\np60\\nI0\\nI1\\ntp61\\nRp62\\n(I3\\nS\\'<\\'\\np63\\nNNNI-1\\nI-1\\nI0\\ntp64\\nbI00\\nS\\'\\\\x9az\\\\xb4\\\\x9c\\\\x08\\\\x91\\\\xd1\\\\xb1\\\\x17\\\\x17\\\\xa0(\\\\xe10l\\\\xf0\\\\xe6\\\\xc0@/=<\\\\x1c\\\\xc5\\\\xbbH\\\\x89\\\\x052?fj;\\\\x86\\\\x84\\\\xc8\\\\xa3\\\\xff+\\\\x8f\\\\x8a\\\\x977\\\\xc0\\\\xb2\\\\x91BD\\\\xbd\\\\xd4\\\\x90\\\\xe1\\\\xcc\\\\xc0\"t\\\\xd1\\\\x0c\\\\x01\\\\x9fJ_\\\\xe7\\\\x9aa\\\\x1a\\\\xf46&\\\\x027P\\\\x8f0\\\\x96\\\\xef?\\\\x12<\\\\xad`TrPI\\\\x00\\\\x8d\\\\x9fu\\\\xeaq\\\\xfaF\\\\x06`w\\\\xc4\\\\xd0\\\\x02\\\\xd3u@\\\\xd3\\\\xfb?6;\\\\xda\\\\xc3w\\\\xebe~\\\\x18\\\\x05lTJ;\\\\xb1\\\\xd4q\\\\xe8^\\\\xa5\\\\xfc\\\\xc4\\\\xcd\\\\xbb\\\\xca\\\\xe6\\\\xd5<Nq\\\\xc0\\\\x1f\\\\xbb9\\\\xbe/r\\\\xde\\\\xc3\\\\xfb\\\\x85c\\\\x9d<\\\\xc1\\\\x97\\\\xb8\\\\xa9$O\\\\xdf\\\\xf3\\\\xa4\\\\x9f\\\\x88\\\\x89\\\\xdb\\\\x01\\\\x81\\\\xf7fB^{*\\\\xe0\\\\x8f\\\\xc7\\\\x031\\\\x97\\\\x88\\\\xc3\\\\xb5\\\\n\\\\xb2\\\\xfd\\\\xafa%\\\\xe7\\\\x0f\\\\xbc\\\\xfaQ\\\\xafV|]o\\\\xf1\\\\xbc\\\\x003$>\\\\x1d\\\\x1e\\\\x84\\\\x16\\\\xb9\\\\xa2#*\\\\x9c\\\\xc6=|\\\\xe2\\\\xad+}y\\\\xac\\\\xba\\\\x9e\\\\xa1t\\\\x91\\\\xa5\\\\xa3\\\\xc2\\\\xa7\\\\x93\\\\x99-X\\\\xb4\\\\xf1\\\\xff\\\\x91\\\\xd5\\\\xa0\\\\x1b\\\\xe3\\\\x8d\\\\xc1:\\\\xae9R\\\\x18\\\\x1a\\\\xf65T\\\\xac\\\\xcc\\\\xb5wpz\\\\na\\\\xe8fml\\\\x16\\\\x9b\\\\xea\\\\xfdRe\\\\x15\\\\xca\\\\xf5\\\\xd2\\\\x88\\\\xfeC}g\\\\xf3\\\\xd2F2<\\\\x8e\\\\xfcz\\\\xfa\\\\xde\\\\xb5\\\\xb0l\\\\xf0\\\\xc4\\\\xfb\\\\x8bf\\\\xea\\\\xa3\\\\xbd\\\\xcc\\\\x16\\\\t%\\\\xfb\\\\x03/2\\\\xd5\\\\xd2w\\\\x04\\\\xa8\\\\x83@\\\\x89b\\\\x12\\\\x85\\\\xf9\\\\xae\\\\xdb\\\\xeb\\\\xb4\\\\xe6?\\\\xc7\\\\x1d\\\\x06s\\\\xb5\\\\x06X\\\\xec{\\\\xc3H\\\\x1c\\\\x0b\\\\x88I\\\\xa5Q*\\\\x8e\\\\xe2\\\\xb5\\\\x85M\\\\x0f\\\\xfd%\\\\xa4\\\\x9f\\\\xf6\\\\xac\\\\x0fn1\\\\xfa\\\\xee\\\\x92\\\\x83\\\\xca\\\\x7f\\\\xdd\\\\x18&`\\\\x08?%\\\\xb7\\\\xda\\\\xf4\\\\xf1Hby\\\\xb6\\\\xf3\\\\xad\\\\x18\\\\x98\\\\xc9Y\"\\\\x1d\\\\x86\\\\xc6\\\\xf5\\\\xd8r\\\\xcf\\\\xcc\\\\xdf\\\\xe2\\\\xc6^\\\\xca\\\\xab!\\\\xcd\\\\x9d\\\\x05Nk}\\\\xab^\\\\xfdg=\\\\x9b\\\\x84\\\\xb0\\\\\\\\\\\\xb4\\\\xba\\\\xa9\\\\x05\\\\x7f\\\\xde\\\\x98n\\\\xe0\\\\xe2M\\\\xa98\\\\x9e\\\\xb4\\\\x93S\\\\x89\\\\xd91\\\\xca\\\\x1c]]\\\\x91\\\\xa4|\\\\x9cR\\\\x90\\\\xc1\\\\xd1\\\\x02*\\\\x192\\\\x1d\\\\x81x\\\\x8dw\\\\x01S(\\\\x81Q\\\\xeb\\\\xa5\\\\xfc\\\\t\\\\x04\\\\xd4\\\\xd4\\\\xcc\\\\xf2\\\\x98\\\\xed]\\\\xf0\\\\x8bCZ\\\\x99\\\\xd4~T1N\\\\x18\\\\\\\\\\\\xd1\\\\x0b\\\\xb3\\\\xdd\\\\x8b\\\\xa0\\\\x9a\\\\x84\\\\xc8~\\\\xe60O9Muh\\\\xea:\\\\xc0\\\\xed1\\\\xf7r\\\\xfb\\\\xfe\\\\xbf\\\\xaf\\\\xbb\\\\xd2\\\\x7f\\\\xfc\\\\xc3\\\\xa8V\\\\xbe\\\\xea\\\\xd0\\\\x13\\\\x9cO\\\\xe0\\\\x1b\\\\xa2\\\\xe6\\\\x15d$j\\\\xd7\\\\x86\\\\x9cY\\\\xe1$\\\\x86\\\\x84\\\\xa0\\\\x00\\\\xc3\\\\xe9\\\\x88\\\\n\\\\xcd\\\\x9d\\\\x84z/\\\\xa7)\\\\x11\\\\xfd\\\\n\\\\xa2*\\\\xe3\\\\x0fF\\\\x9a_.\\\\x9b\\\\x98\\\\xe7<{\\\\xacf\\\\xf2\\\\x87p\\\\xaajy\\\\xf1\\\\x16\\\\xda\\\\xeb\\\\x1b\\\\x1fUBT\\\\x07\\\\x9b\\\\xc210oz\\\\xe1\\\\x98O\\\\x8c]z\\\\xbet\\\\x98W\\\\x88\\\\xa95m\\\\r\\\\xe1W\\\\x87\\\\xc7\\\\x92\\\\x05\\\\xa3Y\\\\xd4\\\\xe4\\\\x99\\\\x90\\\\xdb\\\\xcb\\\\xa3l\\\\xdd\\\\t\\\\xda\\\\x15\\\\x87\\\\t\\\\x97g\\\\xa7z,w:\\\\xdc\\\\x1e\\\\xceC\\\\xe6\\\\xb6-\\\\xa5\\\\xf5p\\\\xc6u\\\\xd6(\\\\xb5_\\\\x18r\\\\x9b$0w\\\\xb8-\\\\x88\\\\xb6\\\\x00\\\\xfc\\\\xf2\\\\xb0\\\\xff\\\\xd5\\\\xdcv\\\\xc8\\\\xae\\\\xdfq\\\\xf1\\\\x84RC\\\\x94\\\\x07\\\\\\\\\\\\x83\\\\xcd\\\\x8a~,\\\\x0e\\\\xc8Y\\\\x17\\\\xac\\\\xbf*\\\\xe4\\\\xd3\\\\x10\\\\x9a\\\\xef\\\\xe9\\\\xfb\\\\x18\\\\xfe]\\\\x06<s\\\\xfd\\\\xe9Y\\\\x8cg$sA\\\\xce\\\\x10rH2m\\\\xcfq.\\\\x9f\\\\xe0\\\\x1d^<\\\\xc4\\\\xfe\\\\xc9X+U\\\\xc3Qi\\\\x14\\\\xc7\\\\x96\\\\x98\\\\xe67$O\\\\x0e\\\\xef\\\\xea\\\\x80g\\\\xe6\\\\xbe\\\\t\\\\x8b\\\\xf4\\\\x10f^X\\\\xdc\\\\x85\\\\xa7h\\\\x13\\\\xd0=>\\\\x9f\\\\xe4\\\\x11\\\\xebR\\\\xf9\\\\xf0\\\\xf3Ic\\\\xe4\\\\xbc\\\\xbak[\\\\xba\\\\x12\\\\x84\\\\xa8\\\\x97M\\\\xe0u\\\\x88\\\\x99od\\\\xac\\\\x12\\\\xc0\\\\x9c\\\\xc5\\\\xd4\\\\xf99\\\\x84:h\\\\x1d\\\\xff\\\\xb1\\\\xf4\\\\x8f\\\\xa7>/\\\\xc9S\\\\xe7\\\\xd0\\\\xe8\\\\xe5@\\\\x03z\\\\xe9\\\\xcb\\\\xa9+N\\\\x9e]\\\\xcf\\\\xa8\\\\x99\\\\xe4\\\\xf2\\\\x85\\\\xec\\\\xe8\\\\xca\\\\xd6S:\\\\xcez\\\\xeeH]\\\\x85n\\\\xb2\\\\x90\\\\t\\\\xe4\\\\x11\\\\xbd\\\\xea8X\\\\xd1R\\\\xb9dR\\\\xb4e\\\\x9c\\\\tn\\\\\\\\\\\\x14?\\\\xe5\\\\xae\\\\x84\\\\xc4\\\\xd4p\\\\xa0\\\\xf1j\\\\xf1p\\\\xf7\\\\x04\\\\xf5!\\\\xf4s\\\\x15\\\\x89\\\\x8d\\\\x1f\\\\xd3p\\\\x8a\\\\x96#\\\\xc5\\\\x0e@2U\\\\xc9x\\\\xe2\\\\x0fa\\\\x12{s\\\\x0fC3\\\\x11H\\\\xe1\\\\xa2\"\\\\xb6\\\\x15\\\\xce\\\\x89\\\\xb1)\\\\xda\\\\x06\\\\x16\\\\x1cC\\\\xe4\\\\x96\\\\x11\\\\xfb\\\\x18\\\\x97\\\\xf0\\\\xdf\\\\x81\\\\xea\\\\xe2\\\\x9c\\\\xa4 \\\\x8d\\\\x1b\\\\x93!\\\\x9f\\\\t\\\\x1fau\\\\x08\\\\xe9\\\\xd4\\\\x02\\\\x87\\\\x83\\\\x1a4vud\\\\x00\\\\x85\\\\x07y\\\\xfe\\\\x7fu\\\\x90v$:\\\\x05\\\\xc7\\\\x82L Ne\\\\xa0g\\\\xf1\\\\xe4W+(M\\\\xb9\\\\x10\\\\xcc7}\\\\xb0\\\\x7f\\\\xf4<{g\\\\xfeRT\\\\xdav\\\\xe1B\\\\xc5F)M\\\\xa8\\\\xeb#mGr;\\\\x1cu5\\\\xdf\\\\xe9ea\\\\\\\\\\\\x98}\\\\xeb\\\\x15\\\\t\\\\xf1\\\\x1c\\\\xfe}\\\\xb4\\\\x02`\\\\xf6\\\\xa6\\\\xa6&Mef\\\\xdb\\\\xa1\\\\xa0\\\\xcd\\\\xd68I\\\\xe2\\\\xaf2\\\\xc7\\\\xc5\\\\xa7k\\\\r<\\\\xd6\\\\xd2\\\\xa3\\\\x1ci\\\\xf2&gI\\\\xfb\\\\xc9\\\\xec\\\\xb7\\\\xfaP\\\\x88\\\\x1b>* \\\\xdaw\\\\x8f]\\\\x8fK@\\\\xe2\\\\x9f9\\\\x01\\\\x1b\\\\xd8\\\\xf0\\\\xfe\\\\x91\\\\x0bT\\\\xcc\\\\x0fT\\\\x01\\\\x81\\\\xd1\\\\x00G\\\\xe1\\\\x9e\\\\xc8\\\\xc0\\\\x11\\\\x97\\\\xa6\\\\xd1au\\\\x8e\\\\\\\\\\\\xf8\\\\xff9!\\\\\\'X\\\\x0e>\\\\xc7n\\\\x1cR\\\\x91\\\\xb4\\\\xc7v\\\\xac\\\\xf5\\\\xd2\\\\xe4\\\\xde\\\\xae0\\\\xf5M\\\\xbfd\\\\xb1p\\\\xb9\\\\xfeV2\\\\xfe\\\\xff\\\\xd3\\\\xed\\\\x91\\\\x1d\\\\xe2\\\\xc2R\\\\x1c\\\\xf9,w$\\\\x13\\\\xc80\\\\x0b\\\\xbd\\\\xbd\\\\xc3i\\\\xd0{\\\\x8cj@\\\\x03\\\\xa0\\\\x95w\\\\xe3T\\\\x0cb\\\\xc5F\\\\xedgN\\\\xe5\\\\x97U|v\\\\xde\\\\xec\\\\x06p3\\\\xa4\\\\x00\\\\xcc\\\\xfd\\\\x83\\\\x9bT\\\\x1f\\\\xe4D\\\\xf7\\\\x85\\\\x94S\\\\x97\\\\xc2\\\\xf5:\\\\xdc\"\\\\xf0\\\\xed%\\\\x93\\\\x98oA(\\\\x07D\\\\xe1\\\\x9b\\\\xa5\\\\xfa\\\\x14\\\\xbb\\\\x96\\\\x15\\\\x975\\\\xc8\\\\x04\\\\xcag\\\\xe5?\\\\xe0\\\\xe4\\\\xe2\\\\x10\\\\xdf\\\\x87(o\\\\xe7\\\\xd9\\\\xf1(\\\\x00\\\\x8d\\\\xd4\\\\x17v\\\\xb0\\\\xb2}\\\\xf2c\\\\xf1# \\\\x9e\\\\xd9\\\\xb8\\\\x8f[\\\\xf0!j\\\\x85\\\\\\\\\\\\xbbz|=:\\\\xac\\\\xe2\\\\x92\\\\xfcB\\\\xe8\\\\x0f1 \\\\x06\\\\x9e\\\\xab\\\\xce\\\\xf8(g\\\\xc8\\\\xcf^\\\\xe1\\\\xf1h\\\\xc0\\\\x8b\\\\x05\\\\xbc\\\\xb7o\\\\x19|O!1}GP\\\\xcdx+\\\\x89~\\\\xe5\\\\x00\\\\x12\\\\xc7\\\\xd6\\\\x8a\\\\\\\\\\\\xfc)\\\\xd7\\\\x81\\\\xdeIGJ\\\\xb0d\\\\xb3l\\\\xb9\\\\xf2\\\\\\\\\\\\x1b\\\\x98-\\\\xcf\"M\\\\xf5\\\\xd6\\\\xec\\\\x83\\\\xefa\\\\xa2~\\\\xfd\\\\x95\\\\xf7\\\\x02j\\\\xbf\\\\xee\\\\xacY\\\\xd8\\\\x9c\\\\x94\\\\xa3\\\\xcc\\\\xb8\\\\x97Dq\\\\x1c\\\\x069=\\\\t\\\\xe7\\\\xccW>\\\\xf4\\\\x12\\\\xf8@\\\\xd1\\\\x18\\\\xb9d\\\\\\'\\\\xb9P;y\\\\xb9\\\\x18u_\\\\x92\\\\x85\\\\xc49v/\\\\xdd%\\\\xbf]\\\\x9b\\\\n\\\\x1f\\\\x82\\\\x0b\\\\xb6\\\\xc5\\\\x82\\\\xb1\\\\xf5\\\\x13Q%\\\\xa6\\\\x02\\\\xc99c\\\\xbb\\\\xf9J\\\\xad;\\\\x89\\\\x81X?\\\\r\\\\x04]\\\\n\\\\xba\\\\xfe\\\\xacQ-\\\\xcf\\\\x8e\\\\xe4\\\\x18\\\\xe7\\\\x1a43|\\\\xc7\\\\xf6\\\\xb40\\\\xce\\\\xaf\\\\xa4\\\\x91\\\\xcf\\\\xa5\\\\x17\\\\xa4\\\\x00\\\\xb4\\\\xcf|\\\\xf4KI\\\\x10\\\\xc5\\\\x80\\\\xbb\\\\xeeB\\\\xddB6\\\\x15RB_d\\\\xc5\\\\xa6:\\\\x0e\\\\xf9\\\\xe9\\\\x0b\\\\xea\\\\xce\\\\x0f\\\\x8f\\\\xbeI\\\\x86\\\\xf7\\\\xfe\\\\xfbzk\\\\x88Kvv\\\\xfa8yZ\\\\x1fx{u\\\\xef\\\\xea\\\\xbb[Y\\\\xa0\\\\x85\\\\x96\\\\x9fg\\\\xb8\\\\xc2\\\\x84E\\\\xcf\\\\xedvAA\\\\xbfd\\\\x805\\\\x19\\\\xae\\\\x93\\\\x87\\\\x1c$o#\\\\\\'\\\\xb7\\\\x1a\\\\xf4\\\\x84,a6\\\\x84\\\\xa1*\\\\x16\\\\x06I\\\\x9c\\\\xdd5\\\\\\'\\\\xea\\\\xd1\\\\x9c\\\\xf2\\\\x14\\\\x1e\\\\xa2\\\\x08O\\\\xf6\\\\xa4\\\\xddX^M\\\\xbc\\\\xd29C\\\\x05\\\\x83\\\\x81\\\\x81\\\\xba\\\\xe1\\\\xca~\\\\x18\\\\xa5F\\\\ng\\\\x1b\\\\x94\\\\xe8\\\\x8eu\\\\xa9\\\\xf3\\\\xf5\\\\xc1\\\\xbc\\\\xcb,\\\\x84\\\\xff\\\\xe6\\\\xfb\\\\xe6\\\\xb6b\\\\\\\\,\\\\x18o\\\\xb6\\\\x96\\\\xd0\\\\xfc\\\\xde\\\\x0e2\\\\xdb\\\\x96\\\\x90\\\\x88\\\\xa2\\\\x9c\\\\x9ce%\\\\x8a\\\\x8bl\\\\xc9E\\\\xd3\\\\xee>\\\\x9f,\\\\xbf\\\\xbeD\\\\x1c\\\\x0c@\\\\xe0\\\\xe5C\\\\xfb\\\\xf3K\\\\\\\\\\\\xdea\\\\xc5\\\\xd6\\\\xae)\\\\xd2{+\\\\xbd9\\\\xff7k\\\\xc8\\\\xa1\\\\xaf\\\\xce,\\\\xd0>\\\\xfaj}\\\\xf8\\\\x91\\\\xe3/\\\\xcc\\\\x1d;N\\\\xbc9\\\\xb3@\\\\x9a\\\\x7f1\\\\xff\\\\xed\\\\xf9\\\\x80\\\\x8f\\\\xb4a\\\\xc9;\\\\xf7\\\\x10\\\\xc6\\\\x84\\\\xa9\\\\x17)\\\\x954\\\\xd32^-\\\\x0e~E\\\\xb9\\\\xea\\\\xdd\\\\xf0t\\\\x01GQ\\\\xae\\\\xaf\\\\xc2\\\\x01\\\\xe8K7U\\\\xdf*\\\\xff\\\\x9c\\\\n\\\\xd5$\\\\xd0\\\\xfe=9\\\\x14n\\\\xe5\\\\xc6x\\\\xba\\\\xc1]\\\\xdcZ\\\\xcbB\\\\xc8\\\\xb7\\\\xb4P \\\\xc7\\\\xaeC0\\\\xc9\\\\xaeu:\\\\xe2w\\\\x9a\\\\xc4\\\\xde\\\\x93\\\\x1b>3\\\\xbf\\\\x83\\\\xbd\\\\x8f\\\\x1b\\\\x977r\\\\xc3E\\\\x07\\\\x8b\\\\xfe!Lq?\\\\x02\\\\x14\\\\xf1pv+\\\\xff*\\\\x13\\\\x1bJ\\\\x15\\\\x93\\\\x14\\\\x88\\\\xa8\\\\x81\\\\x94<\\\\x9buxt\\\\x0e\\\\xdb\\\\xb3u(>\\\\xe1\\\\xd7NVl\\\\xc5\\\\xa3s\\\\xee\\\\x1b\\\\xfd9\\\\x1a\\\\xae\\\\xf9\\\\xb2x\\\\xf4G\\\\x1c\\\\xd3m:b]*2\\\\xe0\\\\xe8\\\\x81W\\\\x17\\\\xe1\\\\x84\\\\xf4<6\\\\xfb\"\\\\x83\\\\xa9\\\\x19\\\\xb9\\\\xd0\\\\xcb\\\\x15a~\\\\x9dT\\\\xb2`\\\\xca\\\\xf6\\\\xa6b\\\\x12\\\\x0f~\\\\xf7T\\\\x03CD\\\\xb8>\\\\xc1\\\\xa8O\\\\x8b@zk\\\\x1f\\\\xd8\\\\xf5g\\\\xab\\\\xa6\\\\x9e\\\\xc8tb\\\\xf9\\\\xacK\\\\xcc\\\\xbcxMy\\\\x1f\\\\xe6\\\\t=\\\\\\\\\\\\xf7\\\\xe7\\\\xfa\\\\x00\\\\x85\\\\xa1\\\\x96\\\\x14\\\\xa5\\\\xbf\\\\x0c\\\\xff0\\\\xe7\\\\x95c\\\\x02\\\\x0c\\\\x92\\\\xfb\\\\x11\\\\x88\\\\x13\\\\xdf\\\\rM\\\\xcd\\\\xf3Z\\\\x90\\\\xe7\\\\x89&\\\\x8b\\\\xa9jR\\\\xc5\\\\x86\\\\x8d\\\\x98\\\\x0e\\\\xea$\\\\x0b2\\\\x1a\\\\xc80\\\\xde\\\\xe1\\\\xb2[LH\\\\x8de\\\\xdc\\\\xfd\\\\x84\\\\xb0B\\\\xa5\\\\x97_\\\\r\\\\x97\\\\xf2\\\\x96\\\\xda\\\\x90\\\\x9a\\\\x1f\\\\xa76n1\\\\xe15\\\\xa5T\\\\x8b\\\\xc9\\\\xe0:7\\\\x87\\\\xd5Y\\\\x96\\\\xd7\\\\xa1\\\\xb4\\\\xe1K\\\\xf9cHd\\\\xce[\\\\x0bP{\\\\x18\\\\x92\\\\x9a\\\\r\\\\xf5\\\\xd2\\\\xb4\\\\xcc\\\\x91!\\\\xb2i<\\\\xc2l\\\\xafmkH(mX\\\\x0f\\\\x1f\\\\xc4\\\\x9e\\\\xf9\\\\xf7\\\\x82\\\\x02\\\\xd2\\\\xc9\\\\x9aHX3\\\\xb8\\\\xb8\\\\xffy\\\\xac\"\\\\r\\\\x94\\\\x90\\\\x86\\\\xf64\\\\x9b\\\\x7f\\\\x1eXW?\\\\xd1\\\\xa2\\\\x0f\\\\xb0S\\\\x9fdL\\\\xdd\\\\x05\\\\xa5\\\\xae~\\\\xe6\\\\xda\\\\xe8\\\\x01\\\\x8fZ\\\\xad\\\\xd6\\\\xe2\\\\xef\\\\xa8\\\\xcc\\\\xd7\\\\xc1\"2\\\\xb6C\\\\xf9_2 \\\\xb1\\\\xe9\\\\xfa&\\\\xaa@<\\\\xcf\\\\x85\\\\xbb\\\\x11;\\\\xe8\\\\xda\\\\x87&rD\\\\xdf\\\\xd8r\\\\x93\\\\xa2\\\\x950\\\\xb5\\\\xfc\\\\xb9\\\\xcbE\\\\x87XQ\"\\\\x81Z\\\\xceR\\\\xa0\\\\xe84\\\\x14\\\\xaf\\\\xbd/\\\\x8c%\\\\x8bg\\\\xf1\\\\xbfLR\\\\xa5M\\\\x04o\\\\xdd\\\\x05Y\\\\xb4\\\\xe9\\\\xe3\\\\xa6\\\\x85!\\\\x89\\\\r\\\\xc8\\\\x01\\\\x0e\\\\x90\\\\xc9`\\\\xee\\\\x98Y\\\\x15]\\\\x80\\\\x9dl\\\\\\'\\\\x1d\\\\x1bJ\\\\xa1\\\\xa4\\\\x08-\\\\xaa\\\\xad&\\\\t\\\\xb9^F;r\\\\x87\\\\xd7O\\\\x98\\\\xba3\\\\xbd\\\\xa4\\\\x11\\\\xd5\\\\xa5\\\\x02\\\\xee\\\\xdc\\\\n\\\\x86\\\\xebKm\\\\xe6\\\\xa5J\\\\xcf\\\\xbch\\\\x19\\\\xa8\\\\xa1\\\\t\\\\x15\\\\x81(j\\\\xbc\\\\xf3v\\\\x05\\\\t\\\\xef\\\\x912\\\\xd4I\\\\xc8\\\\x88%\\\\xddH\",\\\\x86\\\\x19\\\\x17LG/\\\\xfa\\\\xab\\\\xbc\\\\xe9\\\\x01\\\\xb0\\\\xe9\\\\xff}\\\\x1bk\\\\xbc\\\\x07\\\\xe6}\\\\xcc\\\\xe93\\\\xc8\\\\xafbc#\\\\x89\\\\xf5\\\\x9b\\\\xb5\\\\xdcb\\\\xef\\\\xb0\\\\xa4:I\\\\xe5\\\\xf4\\\\xab\\\\x8b\\\\xd4\\\\xb4\\\\x83(\\\\x92\\\\xba\\\\xc1\\\\x12\\\\x04\\\\\\\\h\\\\x0eU\\\\xd0E\\\\xb5\\\\x82`\\\\x01|\\\\x04\\\\x83\\\\x86?\\\\x7f\\\\xc7\\\\xe3\\\\xbbn\\\\xa5j8\\\\xdf\\\\x19\\\\x1b\\\\r\\\\x9b\\\\xd7\\\\xe0\\\\x1d\\\\x02\\\\x1c\\\\xc2]!Xb\\\\xc6|JJ\\\\x018{\\\\xfb\\\\xad\\\\x86\\\\xb4\\\\xe4J\\\\x9bH\\\\xbb\\\\xb3z\\\\x03\\\\x10\\\\xa8\\\\xb1\\\\xf4\\\\x1b`\\\\xbc\\\\xa1\\\\xe5C\\\\xa3ED1\\\\x0fKT}bm\\\\xa6\\\\x1e\\\\x16q\\\\xec\\\\xfdBF\\\\xc0v\\\\xf9>f\\\\x843\\\\x9c,H\\\\xa3\\\\xe4.E\\\\x82\\\\xb5NZE~(\\\\x1f\\\\xd0\\\\x04\\\\xe0c;\\\\xec\\\\x8csG\\\\xf4\\\\x07\\\\xbc\\\\xac\\\\xf0\\\\xf1s,$\\\\xd3\\\\x06\\\\xf6\\\\x01z\\\\x93\\\\xfcSc\\\\xf9K\\\\x01\\\\xc1g\\\\xbb\\\\x1f\\\\x7fd_N\\\\x00\\\\xe6\\\\xfbb\\\\x06\\\\x15 \\\\xe7\"?\\\\x16Y#\\\\xf8\\\\x06\\'\\np65\\ntp66\\nbI230\\nI0\\nF0.0\\ntp67\\nbsS\\'n_layers_\\'\\np68\\nI4\\nsS\\'n_iter_\\'\\np69\\nI21\\nsS\\'random_state\\'\\np70\\nI1\\nsg42\\ng43\\nsS\\'loss_\\'\\np71\\ncnumpy.core.multiarray\\nscalar\\np72\\n(g26\\nS\\'\\\\xe1\\\\xa8P\"\\\\xa3\\\\x06\\\\\\'@\\'\\np73\\ntp74\\nRp75\\nsS\\'tol\\'\\np76\\nF0.0001\\nsS\\'coefs_\\'\\np77\\n(lp78\\ng16\\n(g17\\n(I0\\ntp79\\ng19\\ntp80\\nRp81\\n(I1\\n(I8\\nI10\\ntp82\\ng26\\nI00\\nS\"0J\\\\xec\\\\x84P\\\\x87\\\\xb8\\\\xbf\\\\x94\\\\x9c\\\\xf9\\\\xe4;H\\\\xd0?\\\\x08Y\\\\xbdM\\\\x92x\\\\xe2\\\\xbf\\\\x9a\\\\x97R\\\\xf7/7\\\\xcd\\\\xbf\\\\xd0\\\\xe6h\\\\x89\\\\xe3\\\\x1a\\\\xda\\\\xbf\\\\xae\\\\xb6/|c \\\\xde\\\\xbf\\\\xc2\\\\xdf3\\\\x97\\\\x85/\\\\xd7\\\\xbf\\\\x0c\\\\xdd\\'\\\\xca\\\\x8d\\\\xd3\\\\xc6\\\\xbf(\\\\xb6\\\\x97\\\\xa8\\\\x10\\\\x84\\\\xbe\\\\xbf\\\\xf0\\\\xc4\\\\xab\\\\xce\\\\xde\\\\xf2\\\\xa6?l\\\\xc5\\\\x08:\\\\xe9\\\\xe2\\\\xb7\\\\xbfPZH<1`\\\\xcb? \\\\xbf\\\\xad\\\\x8bZ\\\\xd7\\\\xd5\\\\xbf|\\\\xfa\\\\xab*u\\\\xf1\\\\xdb?\\\\xadAB\\\\xf4\\\\x95v\\\\xe1\\\\xbfp\\\\x91f\\\\x96\\\\x042\\\\xc9?\\\\x14\\\\x86\\\\xe3\\\\xf9\\\\xe9q\\\\xb8\\\\xbf\\\\xf8\\\\x9d\\\\xc2\\\\x1cRY\\\\xb1?l\\\\n~la\\\\x93\\\\xda\\\\xbf\\\\x92\\\\x93\\\\xeeS\\\\x80O\\\\xd6\\\\xbf\\\\xe8\\\\xf3W\\\\x98\\\\xab9\\\\xd6?t\\\\xb8\\\\xba\\\\x0enM\\\\xe1?jYG\\\\x03\\\\x83\\\\x93\\\\xcb\\\\xbf\\\\xa4\\\\x19\\\\xf3Z\\\\xf4l\\\\xcc?\\\\x0c\\\\xf8.\\\\xcd\\\\xc2\\\\xd0\\\\xdb?,i;7i)\\\\xdd?)L[cc\\\\xaa\\\\xde\\\\xbf\\\\xdeN\\\\xf2\\\\xe38\\\\x08\\\\xe1\\\\xbf*\\\\x10\\\\xe4\\\\xc8Yf\\\\xd8\\\\xbf@\\\\xc7\\\\x0b\\\\x92\\\\xee\\\\xf1\\\\xdb?\\\\xda)h\\\\x97\\\\xb8\\\\xae\\\\xdd\\\\xbf\\\\x98\\\\x1cO/#R\\\\xb7\\\\xbf\\\\x9a \\\\x05KQ\\\\xeb\\\\xe0?`\\\\x05,\\\\x9a\\\\x87\\\\x9b\\\\xa3?0\\\\x8e\\\\x1a\\\\x14\\\\x19\\\\\\\\\\\\xcc?<\\\\xb6\\\\x8e\\\\x82`D\\\\xcb\\\\xbfhc1\\\\x90\\\\xad\\\\x90\\\\xcb?^\\\\xff\\\\x0e_\\\\xa7\\\\xba\\\\xd8?v%\\\\xd5\\\\xb2\\\\xa8\\\\xcc\\\\xe1\\\\xbf8S|6b|\\\\xd2?\\\\xb6\\\\x9d\\\\xa4zI\\\\x10\\\\xe2?nA\\\\xaa;\\\\xf3V\\\\xd2?q\\\\xa8\\\\x04\\\\xfe\\\\xb19\\\\xd0\\\\xbfJ\\\\xb7>\\\\x8b\\\\xc3`\\\\xd5?\\\\x16\\\\xc8\\\\xcc\\\\xf3iR\\\\xdd\\\\xbf\\\\xf0\\\\x19\\\\xe3\\\\tB\\\\xce\\\\xae\\\\xbf\\\\xf4X\\\\xaay\\\\x0f2\\\\xde?\\\\xbeH\\\\x87\\\\x80\\\\x11\\\\x81\\\\xce\\\\xbf\\\\x96x8$\\\\xfe]\\\\xcf\\\\xbf\\\\xf8\\\\xa3\\\\xe2\\\\xb3XW\\\\xdb\\\\xbf\\\\xdb\\\\x7f\\\\xaa\\\\x95t\\\\xc2\\\\xe1\\\\xbf\\\\xa8\\\\xd6\\\\xd4\\\\x04\\\\xa4n\\\\xca?\\\\xf4\\\\xf5\\\\x00\\\\xa4\\\\x98O\\\\xd5\\\\xbf\\\\x10\\\\x0c\\\\xdd;\\\\x88S\\\\xd1\\\\xbf\\\\x80\\\\xbd\\\\xa3\\\\x95\\\\x92\\\\xed\\\\x83\\\\xbf\\\\xa5\\\\xc9\\\\xc8v\\\\xe1\\\\x80\\\\xe0\\\\xbf\\\\xf0hm2\\\\xcf\\\\xe8\\\\xb5?C\\\\xb0\\\\x0c\\\\xd5g\\\\x1b\\\\xda\\\\xbf\\\\xe8\\\\x98f\\\\xd5%f\\\\xba?\\\\x10P\\\\x1enM\\\\x86\\\\xcd?\\\\x8f\\\\xf4\\\\xb4\\\\x02Hc\\\\xdd\\\\xbf4\\\\xfa)(\\\\xc4g\\\\xb9\\\\xbf\\\\xc4\\\\xe2\\\\x14\\\\x1d\\\\x90\\\\xbb\\\\xcc?\\\\\\\\<\\\\xbc\\\\xdco^\\\\xb9\\\\xbf\\\\xaf\\\\xd4\\\\xf9\\\\xd8 \\\\xa1\\\\xe0\\\\xbf\\\\xc0kN\\\\xc2\\\\xe18\\\\xa5?\\\\xd0\\\\xae\\\\xa9\\\\x03\\\\x895\\\\xc8?`\\\\xe6\\\\xd7\\\\xd7\\\\xe6\\\\x9a\\\\x91?\\\\x94\\\\xe1g\\\\xe6\\\\x8em\\\\xe0?\\\\xe8\\\\xb3\\\\xa9f\\\\x01\\\\x96\\\\xb9?D\\\\x8dv\\\\x12\\\\xce\\\\xcf\\\\xdd?\\\\xcf>#\\\\xdby\\\\xca\\\\xda\\\\xbf\\\\xecHv3d\\\\xa8\\\\xda\\\\xbfZ\\\\xbb\\\\xeb\\\\xc1j\\\\xb7\\\\xd6?\\\\x18\\\\x02\\\\xfe\\\\xe1??\\\\xbe\\\\xbf\\\\x03kw\\\\xde\\\\x08\\\\xbb\\\\xd8\\\\xbf\\\\xbc\\\\xfc\\\\x84\\\\xa1\\\\xde\\\\x97\\\\xdf?\\\\xae\\\\xd3o%\\\\x1e\\\\x80\\\\xc6\\\\xbf\\\\xa0\\\\x80\\\\xd9k\\\\x04\\\\x89\\\\xd2?\\\\x84\\\\xcag\\\\x8d\\\\x91\\\\xb3\\\\xd0?\"\\np83\\ntp84\\nbag16\\n(g17\\n(I0\\ntp85\\ng19\\ntp86\\nRp87\\n(I1\\n(I10\\nI2\\ntp88\\ng26\\nI00\\nS\\'f\\\\x890hBo\\\\xe1\\\\xbf\\\\xe3W\\\\xdb\\\\x97pW\\\\xe4?\\\\x08\\\\x0cT\\\\x17=\"\\\\xb2\\\\xbf@],dLa\\\\xbc?\\\\xd8\\\\x81\\\\xf1\\\\x1f\\\\x07\\\\xa1\\\\xc0\\\\xbf\\\\xa6\\\\xb6=\\\\xb45\\\\xcd\\\\xd7\\\\xbf\\\\xa5+h_?A\\\\xe2?(2\\\\xb9;\\\\xc1\\\\xac\\\\xba?\\\\xc7\\\\xfeV\\\\x86]\\\\x7f\\\\xe6\\\\xbf\\\\xb4\\\\\\\\<I\\\\x9b4\\\\xc5?\\\\xa6\\\\xd5\\\\xfd\\\\x9fpa\\\\xcf\\\\xbf\\\\x00\\\\xccV\\\\xb8\\\\x97\\\\x97\\\\xa3?id$\\\\x1b;w\\\\xe1?\\\\xa0\\\\xee;BA\\\\xd6\\\\xc9\\\\xbfizf\\\\x0c\\\\xfa|\\\\xe2?\\\\x109V\\\\xfd\\\\x9fT\\\\xc6?\\\\xee`\\\\xe3mS\\\\xe9\\\\xe5\\\\xbf\\\\x01\\\\xa4e\\\\xe1!o\\\\xe3?,\\\\xad\\\\xf8\\\\x18,G\\\\xd1?M\\\\x1f^t\\\\x9a\\\\x81\\\\xe6?\\'\\np89\\ntp90\\nbag16\\n(g17\\n(I0\\ntp91\\ng19\\ntp92\\nRp93\\n(I1\\n(I2\\nI1\\ntp94\\ng26\\nI00\\nS\\'\\\\xc7\\\\xffa\\\\x9f\\\\xb8\\\\x93\\\\xf3?b\\\\xb2l\\\\xcb^\\\\xd0\\\\xe1?\\'\\np95\\ntp96\\nbasS\\'activation\\'\\np97\\nS\\'relu\\'\\np98\\nsS\\'momentum\\'\\np99\\nF0.9\\nsS\\'out_activation_\\'\\np100\\nS\\'logistic\\'\\np101\\nsS\\'epsilon\\'\\np102\\nF1e-08\\nsS\\'learning_rate\\'\\np103\\nS\\'constant\\'\\np104\\nsS\\'max_iter\\'\\np105\\nI200\\nsS\\'warm_start\\'\\np106\\nI00\\nsS\\'batch_size\\'\\np107\\nS\\'auto\\'\\np108\\nsS\\'beta_2\\'\\np109\\nF0.999\\nsS\\'alpha\\'\\np110\\nF1e-05\\nsS\\'early_stopping\\'\\np111\\nI00\\nsS\\'validation_fraction\\'\\np112\\nF0.1\\nsS\\'beta_1\\'\\np113\\nF0.9\\nsS\\'loss\\'\\np114\\nS\\'log_loss\\'\\np115\\nsS\\'intercepts_\\'\\np116\\n(lp117\\ng16\\n(g17\\n(I0\\ntp118\\ng19\\ntp119\\nRp120\\n(I1\\n(I10\\ntp121\\ng26\\nI00\\nS\\'\\\\xf0i\\\\xb4\\\\xad\\\\x9eS\\\\xdc?\\\\x0c\\\\xe0\\\\xb3\\\\xd4iG\\\\xc2?\\\\x96\\\\xa4\\\\xa3\\\\xa2{\\\\x8b\\\\xd2?\\\\x02\\\\xbc\\\\xa6\\\\x8cDU\\\\xc6\\\\xbfmu\\\\xbb3\\\\xa5\\\\x00\\\\xd1\\\\xbf\\\\xfc\\\\xe9sO\\\\x9eA\\\\xdd?\\\\xb0\\\\xb2b\\\\xf4\\\\xa8A\\\\xb5\\\\xbf>l.\\\\x8b\\\\x10-\\\\xe1?\\\\\\\\\\\\xd2\\\\xddO,(\\\\xc8?\\\\xc8\\\\x93;\\\\xed\\\\xa0\\\\xfc\\\\xc1?\\'\\np122\\ntp123\\nbag16\\n(g17\\n(I0\\ntp124\\ng19\\ntp125\\nRp126\\n(I1\\n(I2\\ntp127\\ng26\\nI00\\nS\\'\\\\xc7\\\\x12\\\\xfd\\\\xab\\\\x06\\\\xa8\\\\xdd\\\\xbf\\\\xee;sW\\\\xdek\\\\xe0\\\\xbf\\'\\np128\\ntp129\\nbag16\\n(g17\\n(I0\\ntp130\\ng19\\ntp131\\nRp132\\n(I1\\n(I1\\ntp133\\ng26\\nI00\\nS\\'\\\\xf9\\\\xaf\\\\x1b\\\\xb7\\\\xfd\\\\xa3\\\\xf3\\\\xbf\\'\\np134\\ntp135\\nbasS\\'nesterovs_momentum\\'\\np136\\nI01\\nsS\\'solver\\'\\np137\\nS\\'lbfgs\\'\\np138\\nsS\\'hidden_layer_sizes\\'\\np139\\n(I10\\nI2\\ntp140\\nsS\\'power_t\\'\\np141\\nF0.5\\nsS\\'learning_rate_init\\'\\np142\\nF0.001\\nsb.'"
      ]
     },
     "execution_count": 33,
     "metadata": {},
     "output_type": "execute_result"
    }
   ],
   "source": [
    "s"
   ]
  },
  {
   "cell_type": "code",
   "execution_count": 35,
   "metadata": {
    "collapsed": false
   },
   "outputs": [],
   "source": [
    "val = worksheet2.acell('A1').value"
   ]
  },
  {
   "cell_type": "code",
   "execution_count": 37,
   "metadata": {
    "collapsed": false
   },
   "outputs": [],
   "source": [
    "clf = pickle.loads(val)"
   ]
  },
  {
   "cell_type": "code",
   "execution_count": 38,
   "metadata": {
    "collapsed": true
   },
   "outputs": [],
   "source": [
    "worksheet3 = gc.open_by_key(key).get_worksheet(2)\n",
    "arr = np.array(worksheet3.get_all_values())\n",
    "X = arr[1:, :-1]\n",
    "X_converted = X.astype(np.float)"
   ]
  },
  {
   "cell_type": "code",
   "execution_count": 39,
   "metadata": {
    "collapsed": true
   },
   "outputs": [],
   "source": [
    "predictions = clf.predict(X_converted)"
   ]
  },
  {
   "cell_type": "code",
   "execution_count": 41,
   "metadata": {
    "collapsed": false
   },
   "outputs": [
    {
     "data": {
      "text/plain": [
       "{'predictions': [1.0, 1.0, 1.0, 1.0, 1.0, 1.0, 1.0]}"
      ]
     },
     "execution_count": 41,
     "metadata": {},
     "output_type": "execute_result"
    }
   ],
   "source": [
    "{\"predictions\": predictions.tolist()}"
   ]
  },
  {
   "cell_type": "code",
   "execution_count": 26,
   "metadata": {
    "collapsed": true
   },
   "outputs": [],
   "source": [
    "clf_2 = clf.coefs_"
   ]
  },
  {
   "cell_type": "code",
   "execution_count": 27,
   "metadata": {
    "collapsed": true
   },
   "outputs": [],
   "source": [
    "clf_new = MLPClassifier(solver='lbfgs', alpha=1e-5, hidden_layer_sizes=(10, 2), random_state=1)"
   ]
  },
  {
   "cell_type": "code",
   "execution_count": 6,
   "metadata": {
    "collapsed": false
   },
   "outputs": [],
   "source": [
    "import pickle\n",
    "s = pickle.dumps(clf)\n",
    "dict_s = {\"bin\": s}"
   ]
  },
  {
   "cell_type": "code",
   "execution_count": 7,
   "metadata": {
    "collapsed": false
   },
   "outputs": [
    {
     "data": {
      "text/plain": [
       "b'\\x80\\x03csklearn.neural_network.multilayer_perceptron\\nMLPClassifier\\nq\\x00)\\x81q\\x01}q\\x02(X\\x06\\x00\\x00\\x00beta_2q\\x03G?\\xef\\xf7\\xce\\xd9\\x16\\x87+X\\x0c\\x00\\x00\\x00_coef_indptrq\\x04]q\\x05(K\\x00K\\x14K\\x02K\\n\\x86q\\x06\\x87q\\x07K\\x14K(K\\nK\\x02\\x86q\\x08\\x87q\\tK(K*K\\x02K\\x01\\x86q\\n\\x87q\\x0beX\\x0c\\x00\\x00\\x00random_stateq\\x0cK\\x01X\\x07\\x00\\x00\\x00shuffleq\\r\\x88X\\x03\\x00\\x00\\x00tolq\\x0eG?\\x1a6\\xe2\\xeb\\x1cC-X\\x08\\x00\\x00\\x00max_iterq\\x0fK\\xc8X\\x07\\x00\\x00\\x00verboseq\\x10\\x89X\\x11\\x00\\x00\\x00_intercept_indptrq\\x11]q\\x12(K*K4\\x86q\\x13K4K6\\x86q\\x14K6K7\\x86q\\x15eX\\r\\x00\\x00\\x00learning_rateq\\x16X\\x08\\x00\\x00\\x00constantq\\x17X\\x13\\x00\\x00\\x00validation_fractionq\\x18G?\\xb9\\x99\\x99\\x99\\x99\\x99\\x9aX\\x08\\x00\\x00\\x00classes_q\\x19cnumpy.core.multiarray\\n_reconstruct\\nq\\x1acnumpy\\nndarray\\nq\\x1bK\\x00\\x85q\\x1cC\\x01bq\\x1d\\x87q\\x1eRq\\x1f(K\\x01K\\x02\\x85q cnumpy\\ndtype\\nq!X\\x02\\x00\\x00\\x00i8q\"K\\x00K\\x01\\x87q#Rq$(K\\x03X\\x01\\x00\\x00\\x00<q%NNNJ\\xff\\xff\\xff\\xffJ\\xff\\xff\\xff\\xffK\\x00tq&b\\x89C\\x10\\x00\\x00\\x00\\x00\\x00\\x00\\x00\\x00\\x01\\x00\\x00\\x00\\x00\\x00\\x00\\x00q\\'tq(bX\\n\\x00\\x00\\x00activationq)X\\x04\\x00\\x00\\x00reluq*X\\x07\\x00\\x00\\x00n_iter_q+K\\x13X\\x04\\x00\\x00\\x00lossq,X\\x08\\x00\\x00\\x00log_lossq-X\\x12\\x00\\x00\\x00hidden_layer_sizesq.K\\nK\\x02\\x86q/X\\x12\\x00\\x00\\x00nesterovs_momentumq0\\x88X\\x07\\x00\\x00\\x00power_tq1G?\\xe0\\x00\\x00\\x00\\x00\\x00\\x00X\\x05\\x00\\x00\\x00loss_q2cnumpy.core.multiarray\\nscalar\\nq3h!X\\x02\\x00\\x00\\x00f8q4K\\x00K\\x01\\x87q5Rq6(K\\x03h%NNNJ\\xff\\xff\\xff\\xffJ\\xff\\xff\\xff\\xffK\\x00tq7bC\\x08\\xa9w\\x0cv,[5?q8\\x86q9Rq:X\\x06\\x00\\x00\\x00coefs_q;]q<(h\\x1ah\\x1bK\\x00\\x85q=h\\x1d\\x87q>Rq?(K\\x01K\\x02K\\n\\x86q@h6\\x89C\\xa0T\\x8b\\xf5\\x0f0{\\xdd\\xbf\\xfd\\x96Q\\xad:\\x15\\x07@\\x05\\xcc\\xbb\\xd4T\\xb2\\xe4\\xbf}*3\\xe2\\x83\\x9d\\x00@\\x92\\x12\\x94Z!@\\xdd\\xbf\\x96\\x7f\\xb4\\xdf\\x94\\x9b\\x02\\xc0Q\\xeeU\\xf7\\xb5\\xfa\\xd9\\xbfQ\\xc8+M\\xa9\\x93\\xc9\\xbf*C\\xd8\\xa4\\xae\\x18\\xc1\\xbf\\xc02\\xbb\\xb4\\x1b?\\xc9\\xbf\\xa4\\xcc\\xd4n\"M\\xdd\\xbf\\x89U\\x18\\x805\\xb8\\x06@\\xb3\\xd3\\x10\\xa3\\x12y\\xd8\\xbf\\xf9\\x1f\\x82\\xb36\\x93\\x06@\\xf8\\xca \\x99B\\x91\\xe3\\xbf\\x93\\xab\\x1f\\xfaW?\\xf9\\xbf\\xb4\\xe0\\xa0\\xed\\xf2c\\xbb\\xbf1\\x0f\\xad\\nxp\\xb3?\\x1f\\xa3|\\xf4#\\xc7\\xdd\\xbfm\\x04m4\\x0ck\\xe4\\xbfqAtqBbh\\x1ah\\x1bK\\x00\\x85qCh\\x1d\\x87qDRqE(K\\x01K\\nK\\x02\\x86qFh6\\x89C\\xa0Q\\xfe\\x16S\\xd3m\\x02\\xc0\\xa0\\xfb\\x7f&\\xff\\xf3\\xf7\\xbfVp#N;\\x0b\\xfe?\\x10ww\\xe6;\\t\\xf0?\\x0c\\\\\\xc3\\x9c\\xe3\\xc6\\xcf?\\xa0\\xd4\\x00\\xb6v\\x8d\\xce\\xbf\\x81\\xaeM\\x07\\x00\\x19\\xf0?\\xaa\\x8d\\xdc\\x01n\\n\\xec?\\x94\\x9c#`\\xb4\\xf1\\xe3\\xbf\\xc6\\x10\\x95T\\x9a\\xb6\\xd4?\\xa0U\\xcb|>}\\xcc?\\x86\\x9b\\x93}s\\xfc\\x88\\xbf\\xd0\\x18\\xd1\\xc3/.\\xd2\\xbfT)`\\x961\\xf4\\xd7?\\xbcu\"3qm\\xe0\\xbf5>l\\x9e?B\\xb1\\xbf\\x98bEI\\xbd\\xea\\xe0?\"@\\xe0\\xd8\\x00\\x17\\xd1\\xbf\\x8c\\x11\\x99\\x80\\x14-\\x05\\xc0\\xfc<o\\x02\\x8a+\\x00\\xc0qGtqHbh\\x1ah\\x1bK\\x00\\x85qIh\\x1d\\x87qJRqK(K\\x01K\\x02K\\x01\\x86qLh6\\x89C\\x10\\xf8_\\xca\\x05;v\\x15\\xc0u\\x8c\\x08\\x1d\\xc4\\xdf\\xf0\\xbfqMtqNbeX\\x0e\\x00\\x00\\x00early_stoppingqO\\x89X\\n\\x00\\x00\\x00warm_startqP\\x89X\\x06\\x00\\x00\\x00beta_1qQG?\\xec\\xcc\\xcc\\xcc\\xcc\\xcc\\xcdX\\x07\\x00\\x00\\x00epsilonqRG>Ey\\x8e\\xe20\\x8c:X\\x0b\\x00\\x00\\x00intercepts_qS]qT(h\\x1ah\\x1bK\\x00\\x85qUh\\x1d\\x87qVRqW(K\\x01K\\n\\x85qXh6\\x89CP\\x17\\xd1\\x16N\\xf9\\x15\\x0c@\\xd8\\\\\\xe3\\xbe\\x0f\\xff\\xf4\\xbf\\x84^\\x1b\\xe8\\x0c\\xe3\\xd0\\xbf\\xd1[Z\\xa9\\xa8V\\xf8\\xbf1Z\\xed\\xc6\\x8e\\x08\\xe1?T\\xd0\\xfa\\x88x[\\xf6\\xbf\\x9emb\\x82\\\\\\xc7\\xe2\\xbf\\xab!r\\xe9(\\xdc\\xe4\\xbf\\x1c\\xfdm\\x9e/\\xe2\\xdd\\xbfk\\x91\\xfe\\x9b\\x9b\\xab\\x0f@qYtqZbh\\x1ah\\x1bK\\x00\\x85q[h\\x1d\\x87q\\\\Rq](K\\x01K\\x02\\x85q^h6\\x89C\\x10W,<J\\x85p\\t\\xc0\\xeb\\xf0\\xca\\xff\\xb2\\xb2\\xfe\\xbfq_tq`bh\\x1ah\\x1bK\\x00\\x85qah\\x1d\\x87qbRqc(K\\x01K\\x01\\x85qdh6\\x89C\\x08,=\\x7f\\x80\\xc2M!@qetqfbeX\\x10\\x00\\x00\\x00_sklearn_versionqgX\\x06\\x00\\x00\\x000.18.1qhX\\n\\x00\\x00\\x00n_outputs_qiK\\x01X\\x0f\\x00\\x00\\x00out_activation_qjX\\x08\\x00\\x00\\x00logisticqkX\\n\\x00\\x00\\x00batch_sizeqlX\\x04\\x00\\x00\\x00autoqmX\\x05\\x00\\x00\\x00alphaqnG>\\xe4\\xf8\\xb5\\x88\\xe3h\\xf1X\\r\\x00\\x00\\x00_random_stateqocnumpy.random\\n__RandomState_ctor\\nqp)Rqq(X\\x07\\x00\\x00\\x00MT19937qrh\\x1ah\\x1bK\\x00\\x85qsh\\x1d\\x87qtRqu(K\\x01Mp\\x02\\x85qvh!X\\x02\\x00\\x00\\x00u4qwK\\x00K\\x01\\x87qxRqy(K\\x03h%NNNJ\\xff\\xff\\xff\\xffJ\\xff\\xff\\xff\\xffK\\x00tqzb\\x89B\\xc0\\t\\x00\\x00\\x9az\\xb4\\x9c\\x08\\x91\\xd1\\xb1\\x17\\x17\\xa0(\\xe10l\\xf0\\xe6\\xc0@/=<\\x1c\\xc5\\xbbH\\x89\\x052?fj;\\x86\\x84\\xc8\\xa3\\xff+\\x8f\\x8a\\x977\\xc0\\xb2\\x91BD\\xbd\\xd4\\x90\\xe1\\xcc\\xc0\"t\\xd1\\x0c\\x01\\x9fJ_\\xe7\\x9aa\\x1a\\xf46&\\x027P\\x8f0\\x96\\xef?\\x12<\\xad`TrPI\\x00\\x8d\\x9fu\\xeaq\\xfaF\\x06`w\\xc4\\xd0\\x02\\xd3u@\\xd3\\xfb?6;\\xda\\xc3w\\xebe~\\x18\\x05lTJ;\\xb1\\xd4q\\xe8^\\xa5\\xfc\\xc4\\xcd\\xbb\\xca\\xe6\\xd5<Nq\\xc0\\x1f\\xbb9\\xbe/r\\xde\\xc3\\xfb\\x85c\\x9d<\\xc1\\x97\\xb8\\xa9$O\\xdf\\xf3\\xa4\\x9f\\x88\\x89\\xdb\\x01\\x81\\xf7fB^{*\\xe0\\x8f\\xc7\\x031\\x97\\x88\\xc3\\xb5\\n\\xb2\\xfd\\xafa%\\xe7\\x0f\\xbc\\xfaQ\\xafV|]o\\xf1\\xbc\\x003$>\\x1d\\x1e\\x84\\x16\\xb9\\xa2#*\\x9c\\xc6=|\\xe2\\xad+}y\\xac\\xba\\x9e\\xa1t\\x91\\xa5\\xa3\\xc2\\xa7\\x93\\x99-X\\xb4\\xf1\\xff\\x91\\xd5\\xa0\\x1b\\xe3\\x8d\\xc1:\\xae9R\\x18\\x1a\\xf65T\\xac\\xcc\\xb5wpz\\na\\xe8fml\\x16\\x9b\\xea\\xfdRe\\x15\\xca\\xf5\\xd2\\x88\\xfeC}g\\xf3\\xd2F2<\\x8e\\xfcz\\xfa\\xde\\xb5\\xb0l\\xf0\\xc4\\xfb\\x8bf\\xea\\xa3\\xbd\\xcc\\x16\\t%\\xfb\\x03/2\\xd5\\xd2w\\x04\\xa8\\x83@\\x89b\\x12\\x85\\xf9\\xae\\xdb\\xeb\\xb4\\xe6?\\xc7\\x1d\\x06s\\xb5\\x06X\\xec{\\xc3H\\x1c\\x0b\\x88I\\xa5Q*\\x8e\\xe2\\xb5\\x85M\\x0f\\xfd%\\xa4\\x9f\\xf6\\xac\\x0fn1\\xfa\\xee\\x92\\x83\\xca\\x7f\\xdd\\x18&`\\x08?%\\xb7\\xda\\xf4\\xf1Hby\\xb6\\xf3\\xad\\x18\\x98\\xc9Y\"\\x1d\\x86\\xc6\\xf5\\xd8r\\xcf\\xcc\\xdf\\xe2\\xc6^\\xca\\xab!\\xcd\\x9d\\x05Nk}\\xab^\\xfdg=\\x9b\\x84\\xb0\\\\\\xb4\\xba\\xa9\\x05\\x7f\\xde\\x98n\\xe0\\xe2M\\xa98\\x9e\\xb4\\x93S\\x89\\xd91\\xca\\x1c]]\\x91\\xa4|\\x9cR\\x90\\xc1\\xd1\\x02*\\x192\\x1d\\x81x\\x8dw\\x01S(\\x81Q\\xeb\\xa5\\xfc\\t\\x04\\xd4\\xd4\\xcc\\xf2\\x98\\xed]\\xf0\\x8bCZ\\x99\\xd4~T1N\\x18\\\\\\xd1\\x0b\\xb3\\xdd\\x8b\\xa0\\x9a\\x84\\xc8~\\xe60O9Muh\\xea:\\xc0\\xed1\\xf7r\\xfb\\xfe\\xbf\\xaf\\xbb\\xd2\\x7f\\xfc\\xc3\\xa8V\\xbe\\xea\\xd0\\x13\\x9cO\\xe0\\x1b\\xa2\\xe6\\x15d$j\\xd7\\x86\\x9cY\\xe1$\\x86\\x84\\xa0\\x00\\xc3\\xe9\\x88\\n\\xcd\\x9d\\x84z/\\xa7)\\x11\\xfd\\n\\xa2*\\xe3\\x0fF\\x9a_.\\x9b\\x98\\xe7<{\\xacf\\xf2\\x87p\\xaajy\\xf1\\x16\\xda\\xeb\\x1b\\x1fUBT\\x07\\x9b\\xc210oz\\xe1\\x98O\\x8c]z\\xbet\\x98W\\x88\\xa95m\\r\\xe1W\\x87\\xc7\\x92\\x05\\xa3Y\\xd4\\xe4\\x99\\x90\\xdb\\xcb\\xa3l\\xdd\\t\\xda\\x15\\x87\\t\\x97g\\xa7z,w:\\xdc\\x1e\\xceC\\xe6\\xb6-\\xa5\\xf5p\\xc6u\\xd6(\\xb5_\\x18r\\x9b$0w\\xb8-\\x88\\xb6\\x00\\xfc\\xf2\\xb0\\xff\\xd5\\xdcv\\xc8\\xae\\xdfq\\xf1\\x84RC\\x94\\x07\\\\\\x83\\xcd\\x8a~,\\x0e\\xc8Y\\x17\\xac\\xbf*\\xe4\\xd3\\x10\\x9a\\xef\\xe9\\xfb\\x18\\xfe]\\x06<s\\xfd\\xe9Y\\x8cg$sA\\xce\\x10rH2m\\xcfq.\\x9f\\xe0\\x1d^<\\xc4\\xfe\\xc9X+U\\xc3Qi\\x14\\xc7\\x96\\x98\\xe67$O\\x0e\\xef\\xea\\x80g\\xe6\\xbe\\t\\x8b\\xf4\\x10f^X\\xdc\\x85\\xa7h\\x13\\xd0=>\\x9f\\xe4\\x11\\xebR\\xf9\\xf0\\xf3Ic\\xe4\\xbc\\xbak[\\xba\\x12\\x84\\xa8\\x97M\\xe0u\\x88\\x99od\\xac\\x12\\xc0\\x9c\\xc5\\xd4\\xf99\\x84:h\\x1d\\xff\\xb1\\xf4\\x8f\\xa7>/\\xc9S\\xe7\\xd0\\xe8\\xe5@\\x03z\\xe9\\xcb\\xa9+N\\x9e]\\xcf\\xa8\\x99\\xe4\\xf2\\x85\\xec\\xe8\\xca\\xd6S:\\xcez\\xeeH]\\x85n\\xb2\\x90\\t\\xe4\\x11\\xbd\\xea8X\\xd1R\\xb9dR\\xb4e\\x9c\\tn\\\\\\x14?\\xe5\\xae\\x84\\xc4\\xd4p\\xa0\\xf1j\\xf1p\\xf7\\x04\\xf5!\\xf4s\\x15\\x89\\x8d\\x1f\\xd3p\\x8a\\x96#\\xc5\\x0e@2U\\xc9x\\xe2\\x0fa\\x12{s\\x0fC3\\x11H\\xe1\\xa2\"\\xb6\\x15\\xce\\x89\\xb1)\\xda\\x06\\x16\\x1cC\\xe4\\x96\\x11\\xfb\\x18\\x97\\xf0\\xdf\\x81\\xea\\xe2\\x9c\\xa4 \\x8d\\x1b\\x93!\\x9f\\t\\x1fau\\x08\\xe9\\xd4\\x02\\x87\\x83\\x1a4vud\\x00\\x85\\x07y\\xfe\\x7fu\\x90v$:\\x05\\xc7\\x82L Ne\\xa0g\\xf1\\xe4W+(M\\xb9\\x10\\xcc7}\\xb0\\x7f\\xf4<{g\\xfeRT\\xdav\\xe1B\\xc5F)M\\xa8\\xeb#mGr;\\x1cu5\\xdf\\xe9ea\\\\\\x98}\\xeb\\x15\\t\\xf1\\x1c\\xfe}\\xb4\\x02`\\xf6\\xa6\\xa6&Mef\\xdb\\xa1\\xa0\\xcd\\xd68I\\xe2\\xaf2\\xc7\\xc5\\xa7k\\r<\\xd6\\xd2\\xa3\\x1ci\\xf2&gI\\xfb\\xc9\\xec\\xb7\\xfaP\\x88\\x1b>* \\xdaw\\x8f]\\x8fK@\\xe2\\x9f9\\x01\\x1b\\xd8\\xf0\\xfe\\x91\\x0bT\\xcc\\x0fT\\x01\\x81\\xd1\\x00G\\xe1\\x9e\\xc8\\xc0\\x11\\x97\\xa6\\xd1au\\x8e\\\\\\xf8\\xff9!\\'X\\x0e>\\xc7n\\x1cR\\x91\\xb4\\xc7v\\xac\\xf5\\xd2\\xe4\\xde\\xae0\\xf5M\\xbfd\\xb1p\\xb9\\xfeV2\\xfe\\xff\\xd3\\xed\\x91\\x1d\\xe2\\xc2R\\x1c\\xf9,w$\\x13\\xc80\\x0b\\xbd\\xbd\\xc3i\\xd0{\\x8cj@\\x03\\xa0\\x95w\\xe3T\\x0cb\\xc5F\\xedgN\\xe5\\x97U|v\\xde\\xec\\x06p3\\xa4\\x00\\xcc\\xfd\\x83\\x9bT\\x1f\\xe4D\\xf7\\x85\\x94S\\x97\\xc2\\xf5:\\xdc\"\\xf0\\xed%\\x93\\x98oA(\\x07D\\xe1\\x9b\\xa5\\xfa\\x14\\xbb\\x96\\x15\\x975\\xc8\\x04\\xcag\\xe5?\\xe0\\xe4\\xe2\\x10\\xdf\\x87(o\\xe7\\xd9\\xf1(\\x00\\x8d\\xd4\\x17v\\xb0\\xb2}\\xf2c\\xf1# \\x9e\\xd9\\xb8\\x8f[\\xf0!j\\x85\\\\\\xbbz|=:\\xac\\xe2\\x92\\xfcB\\xe8\\x0f1 \\x06\\x9e\\xab\\xce\\xf8(g\\xc8\\xcf^\\xe1\\xf1h\\xc0\\x8b\\x05\\xbc\\xb7o\\x19|O!1}GP\\xcdx+\\x89~\\xe5\\x00\\x12\\xc7\\xd6\\x8a\\\\\\xfc)\\xd7\\x81\\xdeIGJ\\xb0d\\xb3l\\xb9\\xf2\\\\\\x1b\\x98-\\xcf\"M\\xf5\\xd6\\xec\\x83\\xefa\\xa2~\\xfd\\x95\\xf7\\x02j\\xbf\\xee\\xacY\\xd8\\x9c\\x94\\xa3\\xcc\\xb8\\x97Dq\\x1c\\x069=\\t\\xe7\\xccW>\\xf4\\x12\\xf8@\\xd1\\x18\\xb9d\\'\\xb9P;y\\xb9\\x18u_\\x92\\x85\\xc49v/\\xdd%\\xbf]\\x9b\\n\\x1f\\x82\\x0b\\xb6\\xc5\\x82\\xb1\\xf5\\x13Q%\\xa6\\x02\\xc99c\\xbb\\xf9J\\xad;\\x89\\x81X?\\r\\x04]\\n\\xba\\xfe\\xacQ-\\xcf\\x8e\\xe4\\x18\\xe7\\x1a43|\\xc7\\xf6\\xb40\\xce\\xaf\\xa4\\x91\\xcf\\xa5\\x17\\xa4\\x00\\xb4\\xcf|\\xf4KI\\x10\\xc5\\x80\\xbb\\xeeB\\xddB6\\x15RB_d\\xc5\\xa6:\\x0e\\xf9\\xe9\\x0b\\xea\\xce\\x0f\\x8f\\xbeI\\x86\\xf7\\xfe\\xfbzk\\x88Kvv\\xfa8yZ\\x1fx{u\\xef\\xea\\xbb[Y\\xa0\\x85\\x96\\x9fg\\xb8\\xc2\\x84E\\xcf\\xedvAA\\xbfd\\x805\\x19\\xae\\x93\\x87\\x1c$o#\\'\\xb7\\x1a\\xf4\\x84,a6\\x84\\xa1*\\x16\\x06I\\x9c\\xdd5\\'\\xea\\xd1\\x9c\\xf2\\x14\\x1e\\xa2\\x08O\\xf6\\xa4\\xddX^M\\xbc\\xd29C\\x05\\x83\\x81\\x81\\xba\\xe1\\xca~\\x18\\xa5F\\ng\\x1b\\x94\\xe8\\x8eu\\xa9\\xf3\\xf5\\xc1\\xbc\\xcb,\\x84\\xff\\xe6\\xfb\\xe6\\xb6b\\\\,\\x18o\\xb6\\x96\\xd0\\xfc\\xde\\x0e2\\xdb\\x96\\x90\\x88\\xa2\\x9c\\x9ce%\\x8a\\x8bl\\xc9E\\xd3\\xee>\\x9f,\\xbf\\xbeD\\x1c\\x0c@\\xe0\\xe5C\\xfb\\xf3K\\\\\\xdea\\xc5\\xd6\\xae)\\xd2{+\\xbd9\\xff7k\\xc8\\xa1\\xaf\\xce,\\xd0>\\xfaj}\\xf8\\x91\\xe3/\\xcc\\x1d;N\\xbc9\\xb3@\\x9a\\x7f1\\xff\\xed\\xf9\\x80\\x8f\\xb4a\\xc9;\\xf7\\x10\\xc6\\x84\\xa9\\x17)\\x954\\xd32^-\\x0e~E\\xb9\\xea\\xdd\\xf0t\\x01GQ\\xae\\xaf\\xc2\\x01\\xe8K7U\\xdf*\\xff\\x9c\\n\\xd5$\\xd0\\xfe=9\\x14n\\xe5\\xc6x\\xba\\xc1]\\xdcZ\\xcbB\\xc8\\xb7\\xb4P \\xc7\\xaeC0\\xc9\\xaeu:\\xe2w\\x9a\\xc4\\xde\\x93\\x1b>3\\xbf\\x83\\xbd\\x8f\\x1b\\x977r\\xc3E\\x07\\x8b\\xfe!Lq?\\x02\\x14\\xf1pv+\\xff*\\x13\\x1bJ\\x15\\x93\\x14\\x88\\xa8\\x81\\x94<\\x9buxt\\x0e\\xdb\\xb3u(>\\xe1\\xd7NVl\\xc5\\xa3s\\xee\\x1b\\xfd9\\x1a\\xae\\xf9\\xb2x\\xf4G\\x1c\\xd3m:b]*2\\xe0\\xe8\\x81W\\x17\\xe1\\x84\\xf4<6\\xfb\"\\x83\\xa9\\x19\\xb9\\xd0\\xcb\\x15a~\\x9dT\\xb2`\\xca\\xf6\\xa6b\\x12\\x0f~\\xf7T\\x03CD\\xb8>\\xc1\\xa8O\\x8b@zk\\x1f\\xd8\\xf5g\\xab\\xa6\\x9e\\xc8tb\\xf9\\xacK\\xcc\\xbcxMy\\x1f\\xe6\\t=\\\\\\xf7\\xe7\\xfa\\x00\\x85\\xa1\\x96\\x14\\xa5\\xbf\\x0c\\xff0\\xe7\\x95c\\x02\\x0c\\x92\\xfb\\x11\\x88\\x13\\xdf\\rM\\xcd\\xf3Z\\x90\\xe7\\x89&\\x8b\\xa9jR\\xc5\\x86\\x8d\\x98\\x0e\\xea$\\x0b2\\x1a\\xc80\\xde\\xe1\\xb2[LH\\x8de\\xdc\\xfd\\x84\\xb0B\\xa5\\x97_\\r\\x97\\xf2\\x96\\xda\\x90\\x9a\\x1f\\xa76n1\\xe15\\xa5T\\x8b\\xc9\\xe0:7\\x87\\xd5Y\\x96\\xd7\\xa1\\xb4\\xe1K\\xf9cHd\\xce[\\x0bP{\\x18\\x92\\x9a\\r\\xf5\\xd2\\xb4\\xcc\\x91!\\xb2i<\\xc2l\\xafmkH(mX\\x0f\\x1f\\xc4\\x9e\\xf9\\xf7\\x82\\x02\\xd2\\xc9\\x9aHX3\\xb8\\xb8\\xffy\\xac\"\\r\\x94\\x90\\x86\\xf64\\x9b\\x7f\\x1eXW?\\xd1\\xa2\\x0f\\xb0S\\x9fdL\\xdd\\x05\\xa5\\xae~\\xe6\\xda\\xe8\\x01\\x8fZ\\xad\\xd6\\xe2\\xef\\xa8\\xcc\\xd7\\xc1\"2\\xb6C\\xf9_2 \\xb1\\xe9\\xfa&\\xaa@<\\xcf\\x85\\xbb\\x11;\\xe8\\xda\\x87&rD\\xdf\\xd8r\\x93\\xa2\\x950\\xb5\\xfc\\xb9\\xcbE\\x87XQ\"\\x81Z\\xceR\\xa0\\xe84\\x14\\xaf\\xbd/\\x8c%\\x8bg\\xf1\\xbfLR\\xa5M\\x04o\\xdd\\x05Y\\xb4\\xe9\\xe3\\xa6\\x85!\\x89\\r\\xc8\\x01\\x0e\\x90\\xc9`\\xee\\x98Y\\x15]\\x80\\x9dl\\'\\x1d\\x1bJ\\xa1\\xa4\\x08-\\xaa\\xad&\\t\\xb9^F;r\\x87\\xd7O\\x98\\xba3\\xbd\\xa4\\x11\\xd5\\xa5\\x02\\xee\\xdc\\n\\x86\\xebKm\\xe6\\xa5J\\xcf\\xbch\\x19\\xa8\\xa1\\t\\x15\\x81(j\\xbc\\xf3v\\x05\\t\\xef\\x912\\xd4I\\xc8\\x88%\\xddH\",\\x86\\x19\\x17LG/\\xfa\\xab\\xbc\\xe9\\x01\\xb0\\xe9\\xff}\\x1bk\\xbc\\x07\\xe6}\\xcc\\xe93\\xc8\\xafbc#\\x89\\xf5\\x9b\\xb5\\xdcb\\xef\\xb0\\xa4:I\\xe5\\xf4\\xab\\x8b\\xd4\\xb4\\x83(\\x92\\xba\\xc1\\x12\\x04\\\\h\\x0eU\\xd0E\\xb5\\x82`\\x01|\\x04\\x83\\x86?\\x7f\\xc7\\xe3\\xbbn\\xa5j8\\xdf\\x19\\x1b\\r\\x9b\\xd7\\xe0\\x1d\\x02\\x1c\\xc2]!Xb\\xc6|JJ\\x018{\\xfb\\xad\\x86\\xb4\\xe4J\\x9bH\\xbb\\xb3z\\x03\\x10\\xa8\\xb1\\xf4\\x1b`\\xbc\\xa1\\xe5C\\xa3ED1\\x0fKT}bm\\xa6\\x1e\\x16q\\xec\\xfdBF\\xc0v\\xf9>f\\x843\\x9c,H\\xa3\\xe4.E\\x82\\xb5NZE~(\\x1f\\xd0\\x04\\xe0c;\\xec\\x8csG\\xf4\\x07\\xbc\\xac\\xf0\\xf1s,$\\xd3\\x06\\xf6\\x01z\\x93\\xfcSc\\xf9K\\x01\\xc1g\\xbb\\x1f\\x7fd_N\\x00\\xe6\\xfbb\\x06\\x15 \\xe7\"?\\x16Y#\\xf8\\x06q{tq|bKnK\\x00G\\x00\\x00\\x00\\x00\\x00\\x00\\x00\\x00tq}bX\\x08\\x00\\x00\\x00momentumq~G?\\xec\\xcc\\xcc\\xcc\\xcc\\xcc\\xcdX\\t\\x00\\x00\\x00n_layers_q\\x7fK\\x04X\\x06\\x00\\x00\\x00solverq\\x80X\\x05\\x00\\x00\\x00lbfgsq\\x81X\\x10\\x00\\x00\\x00_label_binarizerq\\x82csklearn.preprocessing.label\\nLabelBinarizer\\nq\\x83)\\x81q\\x84}q\\x85(X\\r\\x00\\x00\\x00sparse_input_q\\x86\\x89X\\t\\x00\\x00\\x00neg_labelq\\x87K\\x00h\\x19h\\x1fX\\x07\\x00\\x00\\x00y_type_q\\x88X\\x06\\x00\\x00\\x00binaryq\\x89hghhX\\r\\x00\\x00\\x00sparse_outputq\\x8a\\x89X\\t\\x00\\x00\\x00pos_labelq\\x8bK\\x01ubX\\x12\\x00\\x00\\x00learning_rate_initq\\x8cG?PbM\\xd2\\xf1\\xa9\\xfcX\\x02\\x00\\x00\\x00t_q\\x8dK\\x00ub.'"
      ]
     },
     "execution_count": 7,
     "metadata": {},
     "output_type": "execute_result"
    }
   ],
   "source": [
    "s"
   ]
  },
  {
   "cell_type": "code",
   "execution_count": 9,
   "metadata": {
    "collapsed": true
   },
   "outputs": [],
   "source": [
    "f = open(\"stuff.txt\", \"wb\")\n",
    "f.write(dict_s['bin'])\n",
    "f.close()"
   ]
  },
  {
   "cell_type": "code",
   "execution_count": 10,
   "metadata": {
    "collapsed": false
   },
   "outputs": [
    {
     "data": {
      "text/plain": [
       "MLPClassifier(activation='relu', alpha=1e-05, batch_size='auto', beta_1=0.9,\n",
       "       beta_2=0.999, early_stopping=False, epsilon=1e-08,\n",
       "       hidden_layer_sizes=(10, 2), learning_rate='constant',\n",
       "       learning_rate_init=0.001, max_iter=200, momentum=0.9,\n",
       "       nesterovs_momentum=True, power_t=0.5, random_state=1, shuffle=True,\n",
       "       solver='lbfgs', tol=0.0001, validation_fraction=0.1, verbose=False,\n",
       "       warm_start=False)"
      ]
     },
     "execution_count": 10,
     "metadata": {},
     "output_type": "execute_result"
    }
   ],
   "source": [
    "f2 = open(\"stuff.txt\", \"rb\")\n",
    "stuff = f2.read()\n",
    "s = pickle.loads(stuff)\n",
    "s"
   ]
  },
  {
   "cell_type": "code",
   "execution_count": 93,
   "metadata": {
    "collapsed": false
   },
   "outputs": [
    {
     "data": {
      "text/plain": [
       "MLPClassifier(activation='relu', alpha=1e-05, batch_size='auto', beta_1=0.9,\n",
       "       beta_2=0.999, early_stopping=False, epsilon=1e-08,\n",
       "       hidden_layer_sizes=(10, 2), learning_rate='constant',\n",
       "       learning_rate_init=0.001, max_iter=200, momentum=0.9,\n",
       "       nesterovs_momentum=True, power_t=0.5, random_state=1, shuffle=True,\n",
       "       solver='lbfgs', tol=0.0001, validation_fraction=0.1, verbose=False,\n",
       "       warm_start=False)"
      ]
     },
     "execution_count": 93,
     "metadata": {},
     "output_type": "execute_result"
    }
   ],
   "source": [
    "pickle.loads(s)"
   ]
  },
  {
   "cell_type": "code",
   "execution_count": 28,
   "metadata": {
    "collapsed": true
   },
   "outputs": [],
   "source": [
    "clf_new.coefs_ = clf_2"
   ]
  },
  {
   "cell_type": "code",
   "execution_count": 29,
   "metadata": {
    "collapsed": false
   },
   "outputs": [
    {
     "name": "stderr",
     "output_type": "stream",
     "text": [
      "/Users/MattZhao/anaconda3/lib/python3.4/site-packages/sklearn/utils/validation.py:395: DeprecationWarning: Passing 1d arrays as data is deprecated in 0.17 and will raise ValueError in 0.19. Reshape your data either using X.reshape(-1, 1) if your data has a single feature or X.reshape(1, -1) if it contains a single sample.\n",
      "  DeprecationWarning)\n"
     ]
    },
    {
     "ename": "AttributeError",
     "evalue": "'MLPClassifier' object has no attribute 'n_outputs_'",
     "output_type": "error",
     "traceback": [
      "\u001b[0;31m---------------------------------------------------------------------------\u001b[0m",
      "\u001b[0;31mAttributeError\u001b[0m                            Traceback (most recent call last)",
      "\u001b[0;32m<ipython-input-29-23d73df3368c>\u001b[0m in \u001b[0;36m<module>\u001b[0;34m()\u001b[0m\n\u001b[0;32m----> 1\u001b[0;31m \u001b[0mclf_new\u001b[0m\u001b[0;34m.\u001b[0m\u001b[0mpredict\u001b[0m\u001b[0;34m(\u001b[0m\u001b[0;34m[\u001b[0m\u001b[0;36m1\u001b[0m\u001b[0;34m,\u001b[0m\u001b[0;36m1\u001b[0m\u001b[0;34m]\u001b[0m\u001b[0;34m)\u001b[0m\u001b[0;34m\u001b[0m\u001b[0m\n\u001b[0m",
      "\u001b[0;32m/Users/MattZhao/anaconda3/lib/python3.4/site-packages/sklearn/neural_network/multilayer_perceptron.py\u001b[0m in \u001b[0;36mpredict\u001b[0;34m(self, X)\u001b[0m\n\u001b[1;32m    932\u001b[0m         \"\"\"\n\u001b[1;32m    933\u001b[0m         \u001b[0mcheck_is_fitted\u001b[0m\u001b[0;34m(\u001b[0m\u001b[0mself\u001b[0m\u001b[0;34m,\u001b[0m \u001b[0;34m\"coefs_\"\u001b[0m\u001b[0;34m)\u001b[0m\u001b[0;34m\u001b[0m\u001b[0m\n\u001b[0;32m--> 934\u001b[0;31m         \u001b[0my_pred\u001b[0m \u001b[0;34m=\u001b[0m \u001b[0mself\u001b[0m\u001b[0;34m.\u001b[0m\u001b[0m_predict\u001b[0m\u001b[0;34m(\u001b[0m\u001b[0mX\u001b[0m\u001b[0;34m)\u001b[0m\u001b[0;34m\u001b[0m\u001b[0m\n\u001b[0m\u001b[1;32m    935\u001b[0m \u001b[0;34m\u001b[0m\u001b[0m\n\u001b[1;32m    936\u001b[0m         \u001b[0;32mif\u001b[0m \u001b[0mself\u001b[0m\u001b[0;34m.\u001b[0m\u001b[0mn_outputs_\u001b[0m \u001b[0;34m==\u001b[0m \u001b[0;36m1\u001b[0m\u001b[0;34m:\u001b[0m\u001b[0;34m\u001b[0m\u001b[0m\n",
      "\u001b[0;32m/Users/MattZhao/anaconda3/lib/python3.4/site-packages/sklearn/neural_network/multilayer_perceptron.py\u001b[0m in \u001b[0;36m_predict\u001b[0;34m(self, X)\u001b[0m\n\u001b[1;32m    665\u001b[0m \u001b[0;34m\u001b[0m\u001b[0m\n\u001b[1;32m    666\u001b[0m         \u001b[0mlayer_units\u001b[0m \u001b[0;34m=\u001b[0m \u001b[0;34m[\u001b[0m\u001b[0mX\u001b[0m\u001b[0;34m.\u001b[0m\u001b[0mshape\u001b[0m\u001b[0;34m[\u001b[0m\u001b[0;36m1\u001b[0m\u001b[0;34m]\u001b[0m\u001b[0;34m]\u001b[0m \u001b[0;34m+\u001b[0m \u001b[0mhidden_layer_sizes\u001b[0m \u001b[0;34m+\u001b[0m\u001b[0;31m \u001b[0m\u001b[0;31m\\\u001b[0m\u001b[0;34m\u001b[0m\u001b[0m\n\u001b[0;32m--> 667\u001b[0;31m             \u001b[0;34m[\u001b[0m\u001b[0mself\u001b[0m\u001b[0;34m.\u001b[0m\u001b[0mn_outputs_\u001b[0m\u001b[0;34m]\u001b[0m\u001b[0;34m\u001b[0m\u001b[0m\n\u001b[0m\u001b[1;32m    668\u001b[0m \u001b[0;34m\u001b[0m\u001b[0m\n\u001b[1;32m    669\u001b[0m         \u001b[0;31m# Initialize layers\u001b[0m\u001b[0;34m\u001b[0m\u001b[0;34m\u001b[0m\u001b[0m\n",
      "\u001b[0;31mAttributeError\u001b[0m: 'MLPClassifier' object has no attribute 'n_outputs_'"
     ]
    }
   ],
   "source": [
    "clf_new.p"
   ]
  },
  {
   "cell_type": "code",
   "execution_count": 30,
   "metadata": {
    "collapsed": false
   },
   "outputs": [
    {
     "data": {
      "text/plain": [
       "<bound method MLPClassifier.get_params of MLPClassifier(activation='relu', alpha=1e-05, batch_size='auto', beta_1=0.9,\n",
       "       beta_2=0.999, early_stopping=False, epsilon=1e-08,\n",
       "       hidden_layer_sizes=(10, 2), learning_rate='constant',\n",
       "       learning_rate_init=0.001, max_iter=200, momentum=0.9,\n",
       "       nesterovs_momentum=True, power_t=0.5, random_state=1, shuffle=True,\n",
       "       solver='lbfgs', tol=0.0001, validation_fraction=0.1, verbose=False,\n",
       "       warm_start=False)>"
      ]
     },
     "execution_count": 30,
     "metadata": {},
     "output_type": "execute_result"
    }
   ],
   "source": [
    "clf.get_params"
   ]
  },
  {
   "cell_type": "code",
   "execution_count": 22,
   "metadata": {
    "collapsed": true
   },
   "outputs": [],
   "source": [
    "arr = np.array([[1, 2, 3], [2, 3, 4], [5, 6, 7]])"
   ]
  },
  {
   "cell_type": "code",
   "execution_count": 33,
   "metadata": {
    "collapsed": false
   },
   "outputs": [
    {
     "data": {
      "text/plain": [
       "2.0"
      ]
     },
     "execution_count": 33,
     "metadata": {},
     "output_type": "execute_result"
    }
   ],
   "source": [
    "np.std(arr, ddof=1)d"
   ]
  },
  {
   "cell_type": "code",
   "execution_count": 31,
   "metadata": {
    "collapsed": false
   },
   "outputs": [
    {
     "data": {
      "text/plain": [
       "3.5555555555555554"
      ]
     },
     "execution_count": 31,
     "metadata": {},
     "output_type": "execute_result"
    }
   ],
   "source": [
    "np.sum(np.square(arr - arr.mean())) / 9"
   ]
  },
  {
   "cell_type": "code",
   "execution_count": 12,
   "metadata": {
    "collapsed": true
   },
   "outputs": [],
   "source": [
    "import random"
   ]
  },
  {
   "cell_type": "code",
   "execution_count": 16,
   "metadata": {
    "collapsed": false
   },
   "outputs": [],
   "source": []
  },
  {
   "cell_type": "code",
   "execution_count": 17,
   "metadata": {
    "collapsed": true
   },
   "outputs": [],
   "source": []
  },
  {
   "cell_type": "code",
   "execution_count": 50,
   "metadata": {
    "collapsed": false
   },
   "outputs": [
    {
     "name": "stdout",
     "output_type": "stream",
     "text": [
      "(0, 2)\n",
      "(1, 0)\n",
      "(-2, 3)\n",
      "(0, 1)\n",
      "(0, 1)\n",
      "(-1, 3)\n",
      "(0, 2)\n",
      "(0, 1)\n",
      "(1, 0)\n",
      "(1, 2)\n",
      "(0, 2)\n",
      "(2, 1)\n",
      "(0, 2)\n",
      "(1, 0)\n",
      "(2, 0)\n",
      "(1, 0)\n",
      "(0, 2)\n",
      "(0, 1)\n",
      "(2, 1)\n",
      "(1, 2)\n",
      "(-2, 3)\n",
      "(0, 1)\n",
      "(0, 1)\n",
      "(1, 0)\n",
      "(0, 2)\n",
      "(0, 2)\n",
      "(0, 2)\n",
      "(0, 2)\n",
      "(-1, 3)\n",
      "(-1, 3)\n",
      "(1, 0)\n",
      "(-2, 3)\n",
      "(1, 0)\n",
      "(2, 1)\n",
      "(0, 1)\n",
      "(2, 0)\n",
      "(-1, 3)\n",
      "(-2, 3)\n",
      "(-2, 3)\n",
      "(0, 1)\n",
      "(-1, 3)\n",
      "(0, 2)\n",
      "(2, 1)\n",
      "(-2, 3)\n",
      "(2, 1)\n",
      "(2, 0)\n",
      "(1, 0)\n",
      "(0, 2)\n",
      "(0, 1)\n",
      "(0, 1)\n",
      "(0, 2)\n",
      "(2, 1)\n",
      "(0, 2)\n",
      "(1, 0)\n",
      "(2, 0)\n",
      "(0, 2)\n",
      "(0, 2)\n",
      "(1, 2)\n",
      "(0, 1)\n",
      "(0, 1)\n",
      "(-2, 3)\n",
      "(0, 1)\n",
      "(-2, 3)\n",
      "(0, 1)\n",
      "(1, 0)\n",
      "(1, 0)\n",
      "(0, 1)\n",
      "(2, 1)\n",
      "(2, 0)\n",
      "(-2, 3)\n",
      "(0, 2)\n",
      "(1, 0)\n",
      "(2, 0)\n",
      "(0, 1)\n",
      "(0, 2)\n",
      "(0, 1)\n",
      "(-2, 3)\n",
      "(-2, 3)\n",
      "(1, 2)\n",
      "(-2, 3)\n",
      "(0, 2)\n",
      "(2, 1)\n",
      "(2, 0)\n",
      "(0, 1)\n",
      "(2, 0)\n",
      "(2, 1)\n",
      "(-2, 3)\n",
      "(-2, 3)\n",
      "(1, 0)\n",
      "(0, 2)\n",
      "(-2, 3)\n",
      "(1, 0)\n",
      "(0, 1)\n",
      "(1, 0)\n",
      "(1, 2)\n",
      "(1, 0)\n",
      "(2, 0)\n",
      "(2, 1)\n",
      "(1, 0)\n",
      "(-2, 3)\n",
      "(1, 2)\n",
      "(0, 1)\n",
      "(1, 0)\n",
      "(0, 1)\n",
      "(2, 1)\n",
      "(-2, 3)\n",
      "(-2, 3)\n",
      "(0, 1)\n",
      "(0, 1)\n",
      "(0, 2)\n",
      "(0, 1)\n",
      "(1, 0)\n",
      "(1, 0)\n",
      "(-2, 3)\n",
      "(-2, 3)\n",
      "(-2, 3)\n",
      "(-2, 3)\n",
      "(1, 0)\n",
      "(-2, 3)\n",
      "(1, 0)\n",
      "(-2, 3)\n",
      "(0, 1)\n",
      "(0, 2)\n",
      "(0, 1)\n",
      "(-2, 3)\n",
      "(-2, 3)\n",
      "(2, 0)\n",
      "(0, 2)\n",
      "(2, 1)\n",
      "(-2, 3)\n",
      "(-1, 3)\n",
      "(0, 1)\n",
      "(0, 1)\n",
      "(1, 0)\n",
      "(0, 1)\n",
      "(-2, 3)\n",
      "(1, 0)\n",
      "(0, 1)\n",
      "(0, 2)\n",
      "(1, 0)\n",
      "(1, 0)\n",
      "(0, 2)\n",
      "(1, 0)\n",
      "(2, 1)\n",
      "(0, 2)\n",
      "(-2, 3)\n",
      "(0, 2)\n",
      "(-1, 3)\n",
      "(-2, 3)\n",
      "(2, 0)\n",
      "(-2, 3)\n",
      "(2, 0)\n",
      "(1, 0)\n",
      "(-2, 3)\n",
      "(0, 2)\n",
      "(-2, 3)\n",
      "(-2, 3)\n",
      "(-1, 3)\n",
      "(0, 1)\n",
      "(1, 0)\n",
      "(0, 1)\n",
      "(0, 1)\n",
      "(0, 2)\n",
      "(0, 1)\n",
      "(-2, 3)\n",
      "(2, 1)\n",
      "(2, 1)\n",
      "(2, 1)\n",
      "(1, 2)\n",
      "(1, 0)\n",
      "(1, 0)\n",
      "(-2, 3)\n",
      "(-2, 3)\n",
      "(0, 1)\n",
      "(1, 0)\n",
      "(0, 1)\n",
      "(1, 0)\n",
      "(0, 1)\n",
      "(0, 2)\n",
      "(0, 2)\n",
      "(0, 2)\n",
      "(0, 2)\n",
      "(1, 0)\n",
      "(1, 0)\n",
      "(1, 2)\n",
      "(1, 0)\n",
      "(0, 1)\n",
      "(0, 2)\n",
      "(2, 0)\n",
      "(0, 2)\n",
      "(2, 0)\n",
      "(0, 1)\n",
      "(1, 0)\n",
      "(1, 0)\n",
      "(-2, 3)\n",
      "(0, 2)\n",
      "(0, 2)\n",
      "(1, 2)\n",
      "(2, 1)\n",
      "(-1, 3)\n",
      "(-2, 3)\n",
      "(-2, 3)\n",
      "(-2, 3)\n",
      "(2, 0)\n",
      "(1, 0)\n",
      "(1, 2)\n",
      "(0, 2)\n",
      "(-2, 3)\n",
      "(0, 1)\n",
      "(2, 0)\n",
      "(2, 0)\n",
      "(1, 0)\n",
      "(-2, 3)\n",
      "(1, 0)\n",
      "(-2, 3)\n",
      "(0, 2)\n",
      "(-2, 3)\n",
      "(-2, 3)\n",
      "(-2, 3)\n",
      "(1, 0)\n",
      "(0, 2)\n",
      "(0, 2)\n",
      "(0, 2)\n",
      "(-2, 3)\n",
      "(-2, 3)\n",
      "(-2, 3)\n",
      "(1, 0)\n",
      "(2, 0)\n",
      "(1, 0)\n",
      "(2, 0)\n",
      "(1, 0)\n",
      "(0, 1)\n",
      "(0, 2)\n",
      "(-2, 3)\n",
      "(0, 1)\n",
      "(-2, 3)\n",
      "(-2, 3)\n",
      "(0, 2)\n",
      "(-2, 3)\n",
      "(0, 1)\n",
      "(0, 2)\n",
      "(0, 1)\n",
      "(2, 1)\n",
      "(2, 1)\n",
      "(1, 0)\n",
      "(1, 0)\n",
      "(-1, 3)\n",
      "(1, 0)\n",
      "(-2, 3)\n",
      "(0, 1)\n",
      "(0, 2)\n",
      "(0, 1)\n",
      "(0, 1)\n",
      "(-2, 3)\n",
      "(-2, 3)\n",
      "(1, 0)\n",
      "(0, 1)\n",
      "(-2, 3)\n",
      "(0, 2)\n",
      "(0, 2)\n",
      "(0, 2)\n",
      "(1, 0)\n",
      "(1, 0)\n",
      "(-2, 3)\n",
      "(0, 2)\n",
      "(-1, 3)\n",
      "(2, 1)\n",
      "(1, 0)\n",
      "(1, 0)\n",
      "(0, 1)\n",
      "(2, 1)\n",
      "(-2, 3)\n",
      "(0, 1)\n",
      "(1, 0)\n",
      "(1, 2)\n",
      "(1, 0)\n",
      "(2, 0)\n",
      "(0, 1)\n",
      "(2, 0)\n",
      "(-2, 3)\n",
      "(0, 2)\n",
      "(1, 0)\n",
      "(1, 0)\n",
      "(0, 1)\n",
      "(-2, 3)\n",
      "(-2, 3)\n",
      "(0, 1)\n",
      "(0, 1)\n",
      "(1, 0)\n",
      "(1, 0)\n",
      "(-2, 3)\n",
      "(0, 2)\n",
      "(-2, 3)\n",
      "(0, 2)\n",
      "(0, 1)\n",
      "(-2, 3)\n",
      "(0, 2)\n",
      "(1, 0)\n",
      "(1, 0)\n",
      "(0, 2)\n",
      "(-1, 3)\n",
      "(0, 2)\n",
      "(1, 0)\n",
      "(-1, 3)\n",
      "(1, 0)\n",
      "(1, 2)\n",
      "(0, 1)\n",
      "(0, 1)\n",
      "(0, 2)\n",
      "(0, 2)\n",
      "(0, 2)\n",
      "(1, 0)\n",
      "(2, 1)\n",
      "(1, 2)\n",
      "(1, 0)\n",
      "(-2, 3)\n",
      "(-2, 3)\n",
      "(-2, 3)\n",
      "(1, 0)\n",
      "(1, 0)\n",
      "(0, 1)\n",
      "(-2, 3)\n",
      "(-2, 3)\n",
      "(1, 0)\n",
      "(0, 1)\n",
      "(1, 2)\n",
      "(-1, 3)\n",
      "(-2, 3)\n",
      "(2, 1)\n",
      "(-1, 3)\n",
      "(-2, 3)\n",
      "(1, 0)\n",
      "(2, 1)\n",
      "(1, 0)\n",
      "(0, 2)\n",
      "(1, 0)\n",
      "(-1, 3)\n",
      "(-1, 3)\n",
      "(1, 0)\n",
      "(0, 1)\n",
      "(0, 1)\n",
      "(0, 2)\n",
      "(1, 0)\n",
      "(1, 2)\n",
      "(-2, 3)\n",
      "(1, 0)\n",
      "(-2, 3)\n",
      "(1, 0)\n",
      "(0, 2)\n",
      "(2, 1)\n",
      "(0, 1)\n",
      "(1, 2)\n",
      "(-2, 3)\n",
      "(-2, 3)\n",
      "(2, 0)\n",
      "(2, 1)\n",
      "(1, 0)\n",
      "(0, 1)\n",
      "(0, 1)\n",
      "(0, 2)\n",
      "(0, 2)\n",
      "(-1, 3)\n",
      "(-1, 3)\n",
      "(0, 1)\n",
      "(0, 2)\n",
      "(1, 0)\n",
      "(2, 0)\n",
      "(0, 2)\n",
      "(-2, 3)\n",
      "(0, 2)\n",
      "(0, 1)\n",
      "(0, 1)\n",
      "(-2, 3)\n",
      "(0, 2)\n",
      "(2, 1)\n",
      "(0, 2)\n",
      "(2, 1)\n",
      "(0, 1)\n",
      "(-2, 3)\n",
      "(-2, 3)\n",
      "(0, 2)\n",
      "(0, 1)\n",
      "(0, 2)\n",
      "(1, 0)\n",
      "(1, 0)\n",
      "(0, 2)\n",
      "(0, 2)\n",
      "(0, 1)\n",
      "(-1, 3)\n",
      "(1, 0)\n",
      "(-1, 3)\n",
      "(-2, 3)\n",
      "(1, 0)\n",
      "(-2, 3)\n",
      "(1, 0)\n",
      "(1, 0)\n",
      "(1, 2)\n",
      "(1, 0)\n",
      "(2, 1)\n",
      "(0, 2)\n",
      "(-1, 3)\n",
      "(2, 1)\n",
      "(1, 2)\n",
      "(0, 1)\n",
      "(0, 1)\n",
      "(0, 2)\n",
      "(0, 2)\n",
      "(0, 2)\n",
      "(0, 2)\n",
      "(0, 1)\n",
      "(-2, 3)\n",
      "(1, 0)\n",
      "(0, 2)\n",
      "(2, 1)\n",
      "(0, 2)\n",
      "(0, 2)\n",
      "(0, 1)\n",
      "(-2, 3)\n",
      "(0, 2)\n",
      "(0, 2)\n",
      "(0, 1)\n",
      "(0, 2)\n",
      "(2, 0)\n",
      "(1, 2)\n",
      "(0, 1)\n",
      "(0, 1)\n",
      "(-1, 3)\n",
      "(2, 0)\n",
      "(2, 1)\n",
      "(1, 0)\n",
      "(2, 0)\n",
      "(0, 2)\n",
      "(2, 0)\n",
      "(-2, 3)\n",
      "(0, 2)\n",
      "(0, 2)\n",
      "(-2, 3)\n",
      "(-2, 3)\n",
      "(0, 1)\n",
      "(0, 1)\n",
      "(1, 0)\n",
      "(2, 0)\n",
      "(2, 1)\n",
      "(-2, 3)\n",
      "(2, 1)\n",
      "(2, 1)\n",
      "(1, 2)\n",
      "(1, 0)\n",
      "(1, 0)\n",
      "(-2, 3)\n",
      "(0, 1)\n",
      "(-2, 3)\n",
      "(0, 2)\n",
      "(0, 1)\n",
      "(2, 0)\n",
      "(0, 1)\n",
      "(2, 0)\n",
      "(1, 0)\n",
      "(-2, 3)\n",
      "(0, 2)\n",
      "(0, 1)\n",
      "(-2, 3)\n",
      "(0, 2)\n",
      "(-2, 3)\n",
      "(2, 1)\n",
      "(0, 1)\n",
      "(-2, 3)\n",
      "(2, 1)\n",
      "(1, 0)\n",
      "(0, 1)\n",
      "(-2, 3)\n",
      "(0, 1)\n",
      "(1, 0)\n",
      "(0, 2)\n",
      "(1, 0)\n",
      "(0, 1)\n",
      "(1, 0)\n",
      "(-2, 3)\n",
      "(1, 0)\n",
      "(0, 2)\n",
      "(0, 2)\n",
      "(-1, 3)\n",
      "(0, 2)\n",
      "(0, 2)\n",
      "(0, 1)\n",
      "(1, 0)\n",
      "(0, 1)\n",
      "(1, 0)\n",
      "(-2, 3)\n",
      "(0, 1)\n",
      "(2, 0)\n",
      "(0, 2)\n",
      "(-2, 3)\n",
      "(1, 0)\n",
      "(2, 0)\n",
      "(0, 2)\n",
      "(2, 1)\n",
      "(-1, 3)\n",
      "(0, 1)\n",
      "(2, 0)\n",
      "(1, 0)\n",
      "(0, 1)\n",
      "(0, 2)\n",
      "(-1, 3)\n",
      "(-2, 3)\n",
      "(-2, 3)\n",
      "(-2, 3)\n",
      "(-2, 3)\n",
      "(-2, 3)\n",
      "(-1, 3)\n",
      "(0, 1)\n",
      "(0, 2)\n",
      "(1, 0)\n",
      "(-2, 3)\n",
      "(0, 1)\n",
      "(0, 1)\n",
      "(1, 0)\n",
      "(0, 2)\n",
      "(-2, 3)\n",
      "(0, 1)\n",
      "(1, 0)\n",
      "(-2, 3)\n",
      "(0, 1)\n",
      "(0, 2)\n",
      "(-2, 3)\n",
      "(0, 1)\n",
      "(0, 1)\n",
      "(2, 1)\n",
      "(-2, 3)\n",
      "(0, 1)\n",
      "(0, 1)\n",
      "(-2, 3)\n",
      "(-1, 3)\n",
      "(1, 0)\n",
      "(0, 2)\n",
      "(1, 0)\n",
      "(2, 0)\n",
      "(1, 0)\n",
      "(0, 2)\n",
      "(0, 1)\n",
      "(0, 1)\n",
      "(-2, 3)\n",
      "(0, 2)\n",
      "(0, 1)\n",
      "(-1, 3)\n",
      "(-2, 3)\n",
      "(1, 2)\n",
      "(0, 1)\n",
      "(2, 0)\n",
      "(-1, 3)\n",
      "(1, 0)\n",
      "(2, 0)\n",
      "(1, 0)\n",
      "(1, 2)\n",
      "(0, 2)\n",
      "(1, 2)\n",
      "(-1, 3)\n",
      "(1, 0)\n",
      "(1, 0)\n",
      "(-2, 3)\n",
      "(-2, 3)\n",
      "(2, 1)\n",
      "(-2, 3)\n",
      "(0, 2)\n",
      "(-1, 3)\n",
      "(-1, 3)\n",
      "(1, 0)\n",
      "(2, 0)\n",
      "(-2, 3)\n",
      "(0, 2)\n",
      "(0, 2)\n",
      "(-2, 3)\n",
      "(0, 1)\n",
      "(-1, 3)\n",
      "(0, 2)\n",
      "(1, 0)\n",
      "(0, 1)\n",
      "(-2, 3)\n",
      "(0, 1)\n",
      "(0, 1)\n",
      "(-2, 3)\n",
      "(0, 2)\n",
      "(0, 1)\n",
      "(2, 0)\n",
      "(0, 1)\n",
      "(1, 0)\n",
      "(1, 0)\n",
      "(2, 1)\n",
      "(2, 1)\n",
      "(1, 2)\n",
      "(2, 1)\n",
      "(-2, 3)\n",
      "(2, 0)\n",
      "(-2, 3)\n",
      "(-2, 3)\n",
      "(0, 1)\n",
      "(-2, 3)\n",
      "(1, 0)\n",
      "(1, 2)\n",
      "(0, 1)\n",
      "(0, 2)\n",
      "(1, 0)\n",
      "(0, 1)\n",
      "(-1, 3)\n",
      "(1, 0)\n",
      "(1, 0)\n",
      "(0, 1)\n",
      "(-2, 3)\n",
      "(2, 1)\n",
      "(0, 1)\n",
      "(-2, 3)\n",
      "(1, 0)\n",
      "(0, 1)\n",
      "(-2, 3)\n",
      "(0, 2)\n",
      "(-2, 3)\n",
      "(1, 0)\n",
      "(0, 1)\n",
      "(0, 1)\n",
      "(1, 0)\n",
      "(0, 2)\n",
      "(-2, 3)\n",
      "(2, 1)\n",
      "(1, 0)\n",
      "(0, 2)\n",
      "(0, 1)\n",
      "(-1, 3)\n",
      "(0, 1)\n",
      "(2, 1)\n",
      "(0, 1)\n",
      "(0, 1)\n",
      "(2, 0)\n",
      "(1, 0)\n",
      "(0, 2)\n",
      "(0, 1)\n",
      "(-2, 3)\n",
      "(-2, 3)\n",
      "(0, 1)\n",
      "(0, 2)\n",
      "(-1, 3)\n",
      "(-1, 3)\n",
      "(0, 2)\n",
      "(-2, 3)\n",
      "(0, 2)\n",
      "(1, 0)\n",
      "(2, 1)\n",
      "(1, 0)\n",
      "(-2, 3)\n",
      "(0, 2)\n",
      "(0, 1)\n",
      "(0, 2)\n",
      "(1, 0)\n",
      "(-2, 3)\n",
      "(0, 1)\n",
      "(2, 1)\n",
      "(0, 2)\n",
      "(2, 1)\n",
      "(-2, 3)\n",
      "(0, 2)\n",
      "(-1, 3)\n",
      "(-2, 3)\n",
      "(0, 2)\n",
      "(0, 2)\n",
      "(2, 1)\n",
      "(-1, 3)\n",
      "(-2, 3)\n",
      "(0, 1)\n",
      "(0, 2)\n",
      "(-2, 3)\n",
      "(2, 1)\n",
      "(-2, 3)\n",
      "(-2, 3)\n",
      "(0, 1)\n",
      "(1, 0)\n",
      "(-1, 3)\n",
      "(0, 2)\n",
      "(0, 1)\n",
      "(-2, 3)\n",
      "(-2, 3)\n",
      "(-2, 3)\n",
      "(2, 1)\n",
      "(0, 1)\n",
      "(0, 2)\n",
      "(2, 0)\n",
      "(2, 1)\n",
      "(0, 1)\n",
      "(-2, 3)\n",
      "(0, 1)\n",
      "(-2, 3)\n",
      "(1, 0)\n",
      "(0, 1)\n",
      "(0, 1)\n",
      "(0, 2)\n",
      "(1, 0)\n",
      "(-2, 3)\n",
      "(0, 1)\n",
      "(2, 1)\n",
      "(0, 1)\n",
      "(0, 2)\n",
      "(-1, 3)\n",
      "(2, 1)\n",
      "(-2, 3)\n",
      "(0, 1)\n",
      "(0, 1)\n",
      "(-1, 3)\n",
      "(2, 0)\n",
      "(1, 2)\n",
      "(2, 0)\n",
      "(1, 0)\n",
      "(1, 0)\n",
      "(1, 0)\n",
      "(0, 1)\n",
      "(1, 0)\n",
      "(0, 1)\n",
      "(1, 0)\n",
      "(1, 0)\n",
      "(-2, 3)\n",
      "(0, 2)\n",
      "(-2, 3)\n",
      "(0, 1)\n",
      "(0, 1)\n",
      "(0, 2)\n",
      "(0, 2)\n",
      "(1, 0)\n",
      "(2, 0)\n",
      "(-2, 3)\n",
      "(1, 2)\n",
      "(-1, 3)\n",
      "(0, 2)\n",
      "(-2, 3)\n",
      "(1, 0)\n",
      "(1, 0)\n",
      "(1, 0)\n",
      "(0, 2)\n",
      "(1, 0)\n",
      "(-2, 3)\n",
      "(2, 1)\n",
      "(-1, 3)\n",
      "(0, 2)\n",
      "(1, 0)\n",
      "(0, 1)\n",
      "(0, 1)\n",
      "(1, 0)\n",
      "(1, 0)\n",
      "(1, 2)\n",
      "(0, 2)\n",
      "(1, 0)\n",
      "(0, 2)\n",
      "(-2, 3)\n",
      "(-2, 3)\n",
      "(1, 0)\n",
      "(1, 0)\n",
      "(1, 0)\n",
      "(0, 2)\n",
      "(0, 1)\n",
      "(0, 1)\n",
      "(1, 2)\n",
      "(0, 2)\n",
      "(0, 2)\n",
      "(-2, 3)\n",
      "(1, 0)\n",
      "(-1, 3)\n",
      "(-2, 3)\n",
      "(0, 2)\n",
      "(0, 2)\n",
      "(0, 1)\n",
      "(1, 0)\n",
      "(-1, 3)\n",
      "(-2, 3)\n",
      "(-1, 3)\n",
      "(-2, 3)\n",
      "(2, 1)\n",
      "(-2, 3)\n",
      "(1, 0)\n",
      "(1, 0)\n",
      "(0, 1)\n",
      "(1, 0)\n",
      "(-1, 3)\n",
      "(-2, 3)\n",
      "(1, 2)\n",
      "(-2, 3)\n",
      "(1, 2)\n",
      "(1, 0)\n",
      "(-2, 3)\n",
      "(0, 1)\n",
      "(0, 2)\n",
      "(1, 0)\n",
      "(2, 0)\n",
      "(1, 0)\n",
      "(-2, 3)\n",
      "(1, 0)\n",
      "(1, 0)\n",
      "(0, 2)\n",
      "(2, 0)\n",
      "(0, 2)\n",
      "(-2, 3)\n",
      "(-2, 3)\n",
      "(0, 2)\n",
      "(0, 2)\n",
      "(1, 0)\n",
      "(1, 0)\n",
      "(-2, 3)\n",
      "(0, 2)\n",
      "(2, 1)\n",
      "(0, 1)\n",
      "(0, 1)\n",
      "(0, 1)\n",
      "(0, 2)\n",
      "(2, 0)\n",
      "(-2, 3)\n",
      "(1, 0)\n",
      "(0, 1)\n",
      "(2, 1)\n",
      "(0, 1)\n",
      "(2, 0)\n",
      "(-2, 3)\n",
      "(0, 1)\n",
      "(1, 2)\n",
      "(-2, 3)\n",
      "(0, 1)\n",
      "(-2, 3)\n",
      "(0, 1)\n",
      "(1, 0)\n",
      "(-1, 3)\n",
      "(0, 1)\n",
      "(2, 1)\n",
      "(2, 1)\n",
      "(1, 0)\n",
      "(-2, 3)\n",
      "(2, 1)\n",
      "(0, 2)\n",
      "(0, 1)\n",
      "(0, 2)\n",
      "(-2, 3)\n",
      "(1, 0)\n",
      "(0, 1)\n",
      "(0, 1)\n",
      "(1, 0)\n",
      "(1, 2)\n",
      "(0, 2)\n",
      "(0, 2)\n",
      "(0, 1)\n",
      "(0, 2)\n",
      "(0, 1)\n",
      "(0, 2)\n",
      "(0, 2)\n",
      "(1, 0)\n",
      "(-2, 3)\n",
      "(0, 2)\n",
      "(-1, 3)\n",
      "(2, 1)\n",
      "(0, 1)\n",
      "(1, 0)\n",
      "(-2, 3)\n",
      "(2, 0)\n",
      "(1, 0)\n",
      "(1, 0)\n",
      "(1, 2)\n",
      "(0, 2)\n",
      "(0, 1)\n",
      "(0, 1)\n",
      "(0, 1)\n",
      "(0, 1)\n",
      "(0, 2)\n",
      "(0, 2)\n",
      "(-2, 3)\n",
      "(0, 2)\n",
      "(0, 2)\n",
      "(-1, 3)\n",
      "(1, 0)\n",
      "(-2, 3)\n",
      "(1, 0)\n",
      "(0, 1)\n",
      "(2, 1)\n",
      "(1, 0)\n",
      "(0, 1)\n",
      "(-1, 3)\n",
      "(0, 1)\n",
      "(1, 0)\n",
      "(0, 2)\n",
      "(1, 2)\n",
      "(0, 2)\n",
      "(-2, 3)\n",
      "(1, 0)\n",
      "(0, 1)\n",
      "(0, 1)\n",
      "(0, 2)\n",
      "(2, 1)\n",
      "(-1, 3)\n",
      "(2, 1)\n",
      "(-2, 3)\n",
      "(-2, 3)\n",
      "(2, 0)\n",
      "(1, 0)\n",
      "(0, 2)\n",
      "(-1, 3)\n",
      "(1, 0)\n",
      "(0, 2)\n",
      "(-2, 3)\n",
      "(-2, 3)\n",
      "(2, 1)\n",
      "(0, 1)\n",
      "(0, 2)\n",
      "(1, 2)\n",
      "(2, 0)\n",
      "(2, 0)\n",
      "(-2, 3)\n",
      "(2, 0)\n",
      "(-2, 3)\n",
      "(-1, 3)\n",
      "(0, 2)\n",
      "(1, 0)\n",
      "(-2, 3)\n",
      "(-2, 3)\n",
      "(0, 1)\n",
      "(1, 0)\n",
      "(1, 0)\n",
      "(0, 2)\n",
      "(0, 2)\n",
      "(0, 1)\n",
      "(2, 1)\n",
      "(1, 0)\n",
      "(1, 0)\n",
      "(-1, 3)\n",
      "(2, 1)\n",
      "(2, 1)\n",
      "(-2, 3)\n",
      "(0, 1)\n",
      "(0, 1)\n",
      "(0, 2)\n",
      "(1, 0)\n",
      "(1, 0)\n",
      "(1, 2)\n",
      "(-2, 3)\n",
      "(0, 2)\n",
      "(1, 0)\n",
      "(1, 0)\n",
      "(2, 0)\n",
      "(1, 0)\n",
      "(1, 2)\n",
      "(2, 1)\n",
      "(0, 1)\n",
      "(0, 1)\n",
      "(2, 1)\n",
      "(0, 1)\n",
      "(-2, 3)\n",
      "(0, 2)\n",
      "(2, 1)\n",
      "(1, 2)\n",
      "(2, 1)\n",
      "(-1, 3)\n",
      "(0, 1)\n",
      "(-2, 3)\n",
      "(0, 1)\n",
      "(1, 2)\n",
      "(-2, 3)\n",
      "(0, 1)\n",
      "(1, 0)\n",
      "(0, 1)\n",
      "(-1, 3)\n",
      "(-2, 3)\n",
      "(-2, 3)\n",
      "(2, 1)\n",
      "(1, 2)\n",
      "(-2, 3)\n",
      "(-2, 3)\n",
      "(-1, 3)\n",
      "(-2, 3)\n",
      "(-2, 3)\n",
      "(1, 2)\n",
      "(1, 0)\n",
      "(1, 0)\n",
      "(0, 2)\n",
      "(0, 2)\n",
      "(-2, 3)\n",
      "(0, 2)\n",
      "(0, 2)\n",
      "(-2, 3)\n",
      "(1, 2)\n",
      "(-2, 3)\n",
      "(-2, 3)\n",
      "(0, 1)\n",
      "(1, 0)\n",
      "(-2, 3)\n",
      "(1, 0)\n",
      "(-2, 3)\n",
      "(0, 1)\n",
      "(1, 0)\n",
      "(1, 0)\n",
      "(1, 2)\n",
      "(1, 0)\n",
      "(0, 1)\n",
      "(0, 2)\n",
      "(2, 0)\n",
      "(0, 2)\n",
      "(1, 0)\n",
      "(1, 0)\n",
      "(-2, 3)\n",
      "(0, 1)\n",
      "(1, 0)\n",
      "356\n",
      "258\n"
     ]
    }
   ],
   "source": [
    "switch_right = 0\n",
    "no_switch_right = 0\n",
    "for j in range(1000):\n",
    "    car_door = random.randint(0, 3)\n",
    "    choice = random.randint(0, 3)\n",
    "    for i in range(3):\n",
    "        if i != car_door and i != choice:\n",
    "            switch = 3 - i - choice\n",
    "            no_switch = choice\n",
    "    print(switch, no_switch)\n",
    "    if switch == car_door:\n",
    "        switch_right += 1\n",
    "    elif no_switch == car_door:\n",
    "        no_switch_right += 1\n",
    "\n",
    "print(switch_right)\n",
    "print(no_switch_right)"
   ]
  },
  {
   "cell_type": "code",
   "execution_count": null,
   "metadata": {
    "collapsed": true
   },
   "outputs": [],
   "source": []
  }
 ],
 "metadata": {
  "kernelspec": {
   "display_name": "Python 2",
   "language": "python",
   "name": "python2"
  },
  "language_info": {
   "codemirror_mode": {
    "name": "ipython",
    "version": 2
   },
   "file_extension": ".py",
   "mimetype": "text/x-python",
   "name": "python",
   "nbconvert_exporter": "python",
   "pygments_lexer": "ipython2",
   "version": "2.7.10"
  }
 },
 "nbformat": 4,
 "nbformat_minor": 0
}
